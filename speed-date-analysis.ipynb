{
 "cells": [
  {
   "cell_type": "markdown",
   "metadata": {},
   "source": [
    "# Speed Dating Experiment\n",
    "\n",
    "In this project, we use KNN and Decision Tree to predict whether one person is going to date the other again or not.\n",
    "\n",
    "The data are from kaggle [Speed Dating Experiement](https://www.kaggle.com/annavictoria/speed-dating-experiment)\n",
    "\n",
    "\n",
    "## Table of Content\n",
    "- [Setup](#setup)\n",
    "- [Initial Data Processing](#initial)\n",
    "- [Algorithm Implementation](#algorithm)\n",
    "    - [KNN](#knn)\n",
    "        - [Self Implement](#selfknn)\n",
    "        - [Scikit Learn](#skknn)\n",
    "    - [Decision Tree](#dt)\n",
    "        - [Self Implement](#selfdt)\n",
    "        - [Scikit Leran](#skdt)\n",
    "- [Choosing Predcit Target](#target)\n",
    "- [Other Training Method Implementaions](#trainmethod)\n",
    "\n",
    "## Contributors\n",
    "- [Hao-Tzu Huang](https://github.com/nacat)\n",
    "- [Wei Lee](https://github.com/Lee-W)"
   ]
  },
  {
   "cell_type": "markdown",
   "metadata": {},
   "source": [
    "---\n",
    "\n",
    "# <a name='setup'></a> Setup"
   ]
  },
  {
   "cell_type": "code",
   "execution_count": 1,
   "metadata": {
    "collapsed": false
   },
   "outputs": [
    {
     "data": {
      "text/html": [
       "\n",
       "    <div class=\"bk-root\">\n",
       "        <a href=\"http://bokeh.pydata.org\" target=\"_blank\" class=\"bk-logo bk-logo-small bk-logo-notebook\"></a>\n",
       "        <span id=\"0f2b9fd3-e217-412a-b952-2ebcf51f979e\">Loading BokehJS ...</span>\n",
       "    </div>"
      ]
     },
     "metadata": {},
     "output_type": "display_data"
    },
    {
     "data": {
      "application/javascript": [
       "\n",
       "(function(global) {\n",
       "  function now() {\n",
       "    return new Date();\n",
       "  }\n",
       "\n",
       "  var force = \"1\";\n",
       "\n",
       "  if (typeof (window._bokeh_onload_callbacks) === \"undefined\" || force !== \"\") {\n",
       "    window._bokeh_onload_callbacks = [];\n",
       "    window._bokeh_is_loading = undefined;\n",
       "  }\n",
       "\n",
       "\n",
       "  \n",
       "  if (typeof (window._bokeh_timeout) === \"undefined\" || force !== \"\") {\n",
       "    window._bokeh_timeout = Date.now() + 5000;\n",
       "    window._bokeh_failed_load = false;\n",
       "  }\n",
       "\n",
       "  var NB_LOAD_WARNING = {'data': {'text/html':\n",
       "     \"<div style='background-color: #fdd'>\\n\"+\n",
       "     \"<p>\\n\"+\n",
       "     \"BokehJS does not appear to have successfully loaded. If loading BokehJS from CDN, this \\n\"+\n",
       "     \"may be due to a slow or bad network connection. Possible fixes:\\n\"+\n",
       "     \"</p>\\n\"+\n",
       "     \"<ul>\\n\"+\n",
       "     \"<li>re-rerun `output_notebook()` to attempt to load from CDN again, or</li>\\n\"+\n",
       "     \"<li>use INLINE resources instead, as so:</li>\\n\"+\n",
       "     \"</ul>\\n\"+\n",
       "     \"<code>\\n\"+\n",
       "     \"from bokeh.resources import INLINE\\n\"+\n",
       "     \"output_notebook(resources=INLINE)\\n\"+\n",
       "     \"</code>\\n\"+\n",
       "     \"</div>\"}};\n",
       "\n",
       "  function display_loaded() {\n",
       "    if (window.Bokeh !== undefined) {\n",
       "      Bokeh.$(\"#0f2b9fd3-e217-412a-b952-2ebcf51f979e\").text(\"BokehJS successfully loaded.\");\n",
       "    } else if (Date.now() < window._bokeh_timeout) {\n",
       "      setTimeout(display_loaded, 100)\n",
       "    }\n",
       "  }\n",
       "\n",
       "  function run_callbacks() {\n",
       "    window._bokeh_onload_callbacks.forEach(function(callback) { callback() });\n",
       "    delete window._bokeh_onload_callbacks\n",
       "    console.info(\"Bokeh: all callbacks have finished\");\n",
       "  }\n",
       "\n",
       "  function load_libs(js_urls, callback) {\n",
       "    window._bokeh_onload_callbacks.push(callback);\n",
       "    if (window._bokeh_is_loading > 0) {\n",
       "      console.log(\"Bokeh: BokehJS is being loaded, scheduling callback at\", now());\n",
       "      return null;\n",
       "    }\n",
       "    if (js_urls == null || js_urls.length === 0) {\n",
       "      run_callbacks();\n",
       "      return null;\n",
       "    }\n",
       "    console.log(\"Bokeh: BokehJS not loaded, scheduling load and callback at\", now());\n",
       "    window._bokeh_is_loading = js_urls.length;\n",
       "    for (var i = 0; i < js_urls.length; i++) {\n",
       "      var url = js_urls[i];\n",
       "      var s = document.createElement('script');\n",
       "      s.src = url;\n",
       "      s.async = false;\n",
       "      s.onreadystatechange = s.onload = function() {\n",
       "        window._bokeh_is_loading--;\n",
       "        if (window._bokeh_is_loading === 0) {\n",
       "          console.log(\"Bokeh: all BokehJS libraries loaded\");\n",
       "          run_callbacks()\n",
       "        }\n",
       "      };\n",
       "      s.onerror = function() {\n",
       "        console.warn(\"failed to load library \" + url);\n",
       "      };\n",
       "      console.log(\"Bokeh: injecting script tag for BokehJS library: \", url);\n",
       "      document.getElementsByTagName(\"head\")[0].appendChild(s);\n",
       "    }\n",
       "  };var element = document.getElementById(\"0f2b9fd3-e217-412a-b952-2ebcf51f979e\");\n",
       "  if (element == null) {\n",
       "    console.log(\"Bokeh: ERROR: autoload.js configured with elementid '0f2b9fd3-e217-412a-b952-2ebcf51f979e' but no matching script tag was found. \")\n",
       "    return false;\n",
       "  }\n",
       "\n",
       "  var js_urls = ['https://cdn.pydata.org/bokeh/release/bokeh-0.12.2.min.js', 'https://cdn.pydata.org/bokeh/release/bokeh-widgets-0.12.2.min.js', 'https://cdn.pydata.org/bokeh/release/bokeh-compiler-0.12.2.min.js'];\n",
       "\n",
       "  var inline_js = [\n",
       "    function(Bokeh) {\n",
       "      Bokeh.set_log_level(\"info\");\n",
       "    },\n",
       "    \n",
       "    function(Bokeh) {\n",
       "      \n",
       "      Bokeh.$(\"#0f2b9fd3-e217-412a-b952-2ebcf51f979e\").text(\"BokehJS is loading...\");\n",
       "    },\n",
       "    function(Bokeh) {\n",
       "      console.log(\"Bokeh: injecting CSS: https://cdn.pydata.org/bokeh/release/bokeh-0.12.2.min.css\");\n",
       "      Bokeh.embed.inject_css(\"https://cdn.pydata.org/bokeh/release/bokeh-0.12.2.min.css\");\n",
       "      console.log(\"Bokeh: injecting CSS: https://cdn.pydata.org/bokeh/release/bokeh-widgets-0.12.2.min.css\");\n",
       "      Bokeh.embed.inject_css(\"https://cdn.pydata.org/bokeh/release/bokeh-widgets-0.12.2.min.css\");\n",
       "    }\n",
       "  ];\n",
       "\n",
       "  function run_inline_js() {\n",
       "    \n",
       "    if ((window.Bokeh !== undefined) || (force === \"1\")) {\n",
       "      for (var i = 0; i < inline_js.length; i++) {\n",
       "        inline_js[i](window.Bokeh);\n",
       "      }if (force === \"1\") {\n",
       "        display_loaded();\n",
       "      }} else if (Date.now() < window._bokeh_timeout) {\n",
       "      setTimeout(run_inline_js, 100);\n",
       "    } else if (!window._bokeh_failed_load) {\n",
       "      console.log(\"Bokeh: BokehJS failed to load within specified timeout.\");\n",
       "      window._bokeh_failed_load = true;\n",
       "    } else if (!force) {\n",
       "      var cell = $(\"#0f2b9fd3-e217-412a-b952-2ebcf51f979e\").parents('.cell').data().cell;\n",
       "      cell.output_area.append_execute_result(NB_LOAD_WARNING)\n",
       "    }\n",
       "\n",
       "  }\n",
       "\n",
       "  if (window._bokeh_is_loading === 0) {\n",
       "    console.log(\"Bokeh: BokehJS loaded, going straight to plotting\");\n",
       "    run_inline_js();\n",
       "  } else {\n",
       "    load_libs(js_urls, function() {\n",
       "      console.log(\"Bokeh: BokehJS plotting callback run at\", now());\n",
       "      run_inline_js();\n",
       "    });\n",
       "  }\n",
       "}(this));"
      ]
     },
     "metadata": {},
     "output_type": "display_data"
    }
   ],
   "source": [
    "import math\n",
    "from copy import deepcopy\n",
    "from collections import Counter, Iterable\n",
    "from io import StringIO\n",
    "from operator import itemgetter, attrgetter\n",
    "from functools import partial\n",
    "import random\n",
    "import time\n",
    "\n",
    "import numpy as np\n",
    "import matplotlib.pyplot as plt\n",
    "import pandas as pd\n",
    "\n",
    "from sklearn import tree\n",
    "from sklearn.neighbors import KNeighborsClassifier\n",
    "from sklearn.cross_validation import train_test_split\n",
    "from sklearn.metrics import accuracy_score\n",
    "\n",
    "import pydot_ng as pydot\n",
    "from IPython.display import Image, display\n",
    "from tabulate import tabulate\n",
    "\n",
    "from bokeh.io import show, output_notebook\n",
    "from bokeh.plotting import figure\n",
    "\n",
    "output_notebook()"
   ]
  },
  {
   "cell_type": "markdown",
   "metadata": {},
   "source": [
    "# <a name='initial'></a>Initial Data Processing"
   ]
  },
  {
   "cell_type": "markdown",
   "metadata": {},
   "source": [
    "## Load Data"
   ]
  },
  {
   "cell_type": "code",
   "execution_count": 2,
   "metadata": {
    "collapsed": false
   },
   "outputs": [],
   "source": [
    "df = pd.read_csv('speed-dating-experiment/Speed Dating Data.csv', encoding=\"ISO-8859-1\")"
   ]
  },
  {
   "cell_type": "markdown",
   "metadata": {},
   "source": [
    "## Analyze Data"
   ]
  },
  {
   "cell_type": "code",
   "execution_count": 3,
   "metadata": {
    "collapsed": false
   },
   "outputs": [
    {
     "name": "stdout",
     "output_type": "stream",
     "text": [
      "<class 'pandas.core.frame.DataFrame'>\n",
      "RangeIndex: 8378 entries, 0 to 8377\n",
      "Columns: 195 entries, iid to amb5_3\n",
      "dtypes: float64(174), int64(13), object(8)\n",
      "memory usage: 12.5+ MB\n"
     ]
    }
   ],
   "source": [
    "df.info()"
   ]
  },
  {
   "cell_type": "markdown",
   "metadata": {},
   "source": [
    "Number of rows (participants): 8377.  \n",
    "Number of columns (features): 195."
   ]
  },
  {
   "cell_type": "code",
   "execution_count": 4,
   "metadata": {
    "collapsed": false
   },
   "outputs": [
    {
     "data": {
      "text/plain": [
       "Index(['field', 'undergra', 'mn_sat', 'tuition', 'from', 'zipcode', 'income',\n",
       "       'career'],\n",
       "      dtype='object')"
      ]
     },
     "execution_count": 4,
     "metadata": {},
     "output_type": "execute_result"
    }
   ],
   "source": [
    "# Unparseable columns\n",
    "\n",
    "unparseable_cols = df.select_dtypes(include=['object']).columns\n",
    "unparseable_cols"
   ]
  },
  {
   "cell_type": "markdown",
   "metadata": {},
   "source": [
    "The columns above cannot be parsed to numbers directly."
   ]
  },
  {
   "cell_type": "markdown",
   "metadata": {},
   "source": [
    "## Data Cleaning"
   ]
  },
  {
   "cell_type": "markdown",
   "metadata": {},
   "source": [
    "The unparseable columns are handled as following\n",
    "\n",
    "### `income, zipcode, tuition, mn_sat`\n",
    "These columns contain commas and can be parsed to numbers after cleaning"
   ]
  },
  {
   "cell_type": "code",
   "execution_count": 5,
   "metadata": {
    "collapsed": false
   },
   "outputs": [],
   "source": [
    "# Clean Comma\n",
    "COLUMNS_WITH_COMMA = ['income', 'zipcode', 'tuition', 'mn_sat']\n",
    "\n",
    "for col in COLUMNS_WITH_COMMA:\n",
    "    df[col] = df[col].replace('[,]', '', regex=True).astype(float)"
   ]
  },
  {
   "cell_type": "markdown",
   "metadata": {},
   "source": [
    "### `career, field`\n",
    "They have already been encoded in other columns (i.e. career_c, field_cd)  \n",
    "Thus, we simple drop them."
   ]
  },
  {
   "cell_type": "code",
   "execution_count": 6,
   "metadata": {
    "collapsed": true
   },
   "outputs": [],
   "source": [
    "ENCODED_STRING_COLUMNS = ['career', 'field']\n",
    "df.drop(ENCODED_STRING_COLUMNS, axis=1, inplace=True)"
   ]
  },
  {
   "cell_type": "markdown",
   "metadata": {},
   "source": [
    "## `undergra, from`\n",
    "These two columns are pure strings.  \n",
    "The content diversity is too high to encode them like `career` and `field`.  \n",
    "Thus, we use `same_from` and `same_undergra` instead.  \n",
    "The two values indicate that if the values of `undergra` and `from` are the same between the participant and his or her partner.  \n",
    "If so, the value would be 1.  \n",
    "Otherwise, it would be 0.\n",
    "\n",
    "Then, the `undergra` and `from` are dropped."
   ]
  },
  {
   "cell_type": "code",
   "execution_count": 7,
   "metadata": {
    "collapsed": false
   },
   "outputs": [],
   "source": [
    "OTHER_STRING_COLUMNS = ['undergra', 'from']\n",
    "\n",
    "# Joined df based on partner\n",
    "joined_df = df.merge(\n",
    "    df,\n",
    "    how='left',\n",
    "    left_on=['iid', 'id', 'pid', 'partner'],\n",
    "    right_on=['pid', 'partner', 'iid', 'id']\n",
    ")"
   ]
  },
  {
   "cell_type": "code",
   "execution_count": 8,
   "metadata": {
    "collapsed": false
   },
   "outputs": [],
   "source": [
    "df['same_from'] = joined_df['from_x'] == joined_df['from_y']\n",
    "df['same_undergra'] = joined_df['undergra_x'] == joined_df['undergra_y']\n",
    "df.drop(OTHER_STRING_COLUMNS, axis=1, inplace=True)"
   ]
  },
  {
   "cell_type": "markdown",
   "metadata": {},
   "source": [
    "---"
   ]
  },
  {
   "cell_type": "markdown",
   "metadata": {},
   "source": [
    "# <a name='algorithm'></a> Algorithm Implementation\n",
    "\n",
    "## <a name='knn'></a> KNN"
   ]
  },
  {
   "cell_type": "markdown",
   "metadata": {},
   "source": [
    "### <a name='selfknn'></a> Self Implement"
   ]
  },
  {
   "cell_type": "code",
   "execution_count": 14,
   "metadata": {
    "collapsed": true
   },
   "outputs": [],
   "source": [
    "def to_tuple(v):\n",
    "    if isinstance(v, Iterable): \n",
    "        v = (v, )\n",
    "    return v"
   ]
  },
  {
   "cell_type": "code",
   "execution_count": 15,
   "metadata": {
    "collapsed": false
   },
   "outputs": [],
   "source": [
    "def eucldn_similarity(v1, v2):\n",
    "    \"\"\"\n",
    "    Euclidean Distance。越相似，距離越近，相似度數值會越小。\n",
    "    :param v1:\n",
    "    :param v2:\n",
    "    :return: 1/distance(v1,v2) 取距離的倒數，越大越像\n",
    "    \"\"\"\n",
    "    distance = np.sqrt(np.sum(np.power(v1-v2, 2)))\n",
    "    return 1 / distance"
   ]
  },
  {
   "cell_type": "code",
   "execution_count": 16,
   "metadata": {
    "collapsed": false
   },
   "outputs": [],
   "source": [
    "def cos_similarity(v1, v2):\n",
    "    \"\"\"\n",
    "    Cosine（兩向量的餘弦）。越相似，夾角越小，相似度數值會越高。\n",
    "    :param v1:\n",
    "    :param v2:\n",
    "    :return: cos(v1,v2)介於1到-1之間 越大越像\n",
    "    \"\"\"          \n",
    "    son = np.sum(np.multiply(v1,v2))\n",
    "    mom = np.sqrt(np.sum(np.power(v1, 2) * np.sum(np.power(v2, 2))))\n",
    "    cosin = son / mom\n",
    "    return cosin"
   ]
  },
  {
   "cell_type": "code",
   "execution_count": 17,
   "metadata": {
    "collapsed": false
   },
   "outputs": [],
   "source": [
    "def knn_prediction(nb_list):\n",
    "    cnt = Counter(target for (sim, target) in nb_list)\n",
    "    label = cnt.most_common(1)[0][0]\n",
    "    return label"
   ]
  },
  {
   "cell_type": "code",
   "execution_count": 18,
   "metadata": {
    "collapsed": false
   },
   "outputs": [],
   "source": [
    "def knn_classify(test_X, train_X, train_y, k=5):\n",
    "    nb = []\n",
    "    for feature, label in zip(train_X, train_y):\n",
    "        nb.append((cos_similarity(test_X,feature),to_tuple(label)))\n",
    "\n",
    "    nb.sort(reverse=True)\n",
    "    label = knn_prediction(nb[:k])\n",
    "    return label"
   ]
  },
  {
   "cell_type": "code",
   "execution_count": 75,
   "metadata": {
    "collapsed": false
   },
   "outputs": [],
   "source": [
    "def knn(train_X, test_X, train_y, test_y, n_neighbors=5):\n",
    "    count = 0\n",
    "    for feature, label in zip(test_X, test_y):\n",
    "        pred_y = knn_classify(feature, train_X, train_y, n_neighbors)\n",
    "        if pred_y == to_tuple(label):\n",
    "            count += 1\n",
    "    accuracy = count / len(test_X)\n",
    "    return accuracy"
   ]
  },
  {
   "cell_type": "markdown",
   "metadata": {},
   "source": [
    "## <a name='skknn'></a> Scikit Learn"
   ]
  },
  {
   "cell_type": "code",
   "execution_count": 20,
   "metadata": {
    "collapsed": false
   },
   "outputs": [],
   "source": [
    "def knn_with_sklearn(train_X, test_X, train_y, test_y,\n",
    "                     **kwargs):\n",
    "    clf = KNeighborsClassifier(**kwargs)\n",
    "    clf.fit(train_X, train_y)\n",
    "    pred = clf.predict(test_X)\n",
    "    return accuracy_score(pred, test_y)"
   ]
  },
  {
   "cell_type": "markdown",
   "metadata": {},
   "source": [
    "# <a name='dt'></a> Decision Tree"
   ]
  },
  {
   "cell_type": "markdown",
   "metadata": {},
   "source": [
    "## <a name='selfdt'></a> Self Implement"
   ]
  },
  {
   "cell_type": "code",
   "execution_count": 21,
   "metadata": {
    "collapsed": true
   },
   "outputs": [],
   "source": [
    "def gini_index(lcnt, rcnt):\n",
    "    gini = 0.0\n",
    "    tcnt = lcnt + rcnt\n",
    "    tl = sum(lcnt.values())\n",
    "    tr = sum(rcnt.values())\n",
    "    tt = tl + tr\n",
    "    l = 0.0\n",
    "    r = 0.0\n",
    "    for class_label in set(tcnt):\n",
    "        if tl is not 0:\n",
    "            l += pow(lcnt[class_label]/tl,2)\n",
    "        if tr is not 0:    \n",
    "            r += pow(rcnt[class_label]/tr,2)\n",
    "    if tt is not 0:\n",
    "        gini = (tl/tt)*(1-l)+(tr/tt)*(1-r)\n",
    "    return gini"
   ]
  },
  {
   "cell_type": "code",
   "execution_count": 22,
   "metadata": {
    "collapsed": false
   },
   "outputs": [],
   "source": [
    "def try_split(train_X, train_y, index, value):\n",
    "    gini = 1.0\n",
    "    left_X, right_X = list(), list()\n",
    "    left_y, right_y = list(), list()\n",
    "    lcnt, rcnt, tcnt = Counter(), Counter(), Counter\n",
    "    for row_X, row_y in zip(train_X, train_y):\n",
    "        if row_X[index] < value:\n",
    "            left_X.append(row_X)\n",
    "            left_y.append(row_y)\n",
    "            lcnt[to_tuple(row_y)] += 1\n",
    "        else:\n",
    "            right_X.append(row_X)\n",
    "            right_y.append(row_y)\n",
    "            rcnt[to_tuple(row_y)] += 1\n",
    "    if not left_X:\n",
    "        l = 0\n",
    "    else:\n",
    "        l = lcnt.most_common(1)[0][0]\n",
    "    if not right_X:\n",
    "        r = 0\n",
    "    else:\n",
    "        r = rcnt.most_common(1)[0][0]\n",
    "    gini = gini_index(lcnt, rcnt)\n",
    "    return gini, left_X, right_X, left_y, right_y, l, r"
   ]
  },
  {
   "cell_type": "code",
   "execution_count": 23,
   "metadata": {
    "collapsed": false
   },
   "outputs": [],
   "source": [
    "def determine_split(train_X, train_y):\n",
    "    calculated = set()\n",
    "    b_feature, b_value, b_gini, b_group = 999, 999, 999, None\n",
    "    for index in range(len(train_X[0])):\n",
    "        for tp in train_X:\n",
    "            if tp[index] not in calculated:\n",
    "                calculated.add(tp[index])\n",
    "                gini, left_group, right_group, left_label, right_label, l, r= try_split(train_X, train_y, index, tp[index])\n",
    "                groups = left_group, right_group\n",
    "                labels = left_label, right_label\n",
    "                counter = l, r\n",
    "                if gini < b_gini:\n",
    "                    b_index, b_value, b_gini, b_group, b_label, b_cnt= index, tp[index], gini, groups, labels, counter\n",
    "                if gini == 0.0:\n",
    "                    break\n",
    "    return {'index':b_index, 'value':b_value, 'gini':b_gini, 'groups':b_group, 'labels':b_label, 'count':b_cnt}"
   ]
  },
  {
   "cell_type": "code",
   "execution_count": 24,
   "metadata": {
    "collapsed": false
   },
   "outputs": [],
   "source": [
    "def split(node, max_depth, min_size, depth):\n",
    "    left, right = node['groups']\n",
    "    l_label, r_label = node['labels']\n",
    "    l_cnt, r_cnt = node['count']\n",
    "    #del(node['groups'])\n",
    "    #del(node['labels'])\n",
    "\n",
    "    if not left or not right:\n",
    "        if isinstance(l_cnt, tuple):\n",
    "            node['left'] = node['right'] = l_cnt\n",
    "        elif isinstance(r_cnt, tuple):\n",
    "            node['left'] = node['right'] = r_cnt\n",
    "        else:\n",
    "            node['left'] = node['right'] = None\n",
    "        #node['left'] = node['right'] = countLabel(l_label+r_label)\n",
    "        return\n",
    "    if depth >= max_depth:\n",
    "        node['left'], node['right'] = l_cnt, r_cnt#countLabel(l_label), countLabel(r_label)\n",
    "        return\n",
    "    if len(left) <= min_size:\n",
    "        node['left'] = l_cnt#countLabel(l_label)\n",
    "    else:\n",
    "        node['left'] = determine_split(left, l_label)\n",
    "        split(node['left'], max_depth, min_size, depth+1)\n",
    "    if len(right) <= min_size:\n",
    "        node['right'] = r_cnt#countLabel(r_label)\n",
    "    else:\n",
    "        node['right'] = determine_split(right, r_label)\n",
    "        split(node['right'], max_depth, min_size, depth+1)"
   ]
  },
  {
   "cell_type": "code",
   "execution_count": 25,
   "metadata": {
    "collapsed": true
   },
   "outputs": [],
   "source": [
    "def build_tree(train_X, train_y, max_depth, min_size):\n",
    "    root = determine_split(train_X, train_y)\n",
    "    split(root, max_depth, min_size, 1)\n",
    "    return root"
   ]
  },
  {
   "cell_type": "code",
   "execution_count": 26,
   "metadata": {
    "collapsed": true
   },
   "outputs": [],
   "source": [
    "def print_tree(node, depth=0):\n",
    "    if isinstance(node, dict):\n",
    "        print('%s[X%d < %.3f]' % ((depth*' ', (node['index']+1), node['value'])))\n",
    "        print_tree(node['left'], depth+1)\n",
    "        print_tree(node['right'], depth+1)\n",
    "    else:\n",
    "        print('%s[%s]' % ((depth*' ', node)))"
   ]
  },
  {
   "cell_type": "code",
   "execution_count": 27,
   "metadata": {
    "collapsed": true
   },
   "outputs": [],
   "source": [
    "def dt_predict(tp, node):\n",
    "    if tp[node['index']] < node['value']:\n",
    "        if isinstance(node['left'], dict):\n",
    "            return dt_predict(tp, node['left'])\n",
    "        else:\n",
    "            return node['left']\n",
    "    else:\n",
    "        if isinstance(node['right'], dict):\n",
    "            return dt_predict(tp, node['right'])\n",
    "        else:\n",
    "            return node['right']"
   ]
  },
  {
   "cell_type": "code",
   "execution_count": 28,
   "metadata": {
    "collapsed": true
   },
   "outputs": [],
   "source": [
    "def dt_accuracy(test_X, test_y, tree):\n",
    "    accuracy = 0\n",
    "    count = 0\n",
    "    for tp, label in zip(test_X, test_y):\n",
    "        pred = dt_predict(tp, tree)\n",
    "        if pred == to_tuple(label):\n",
    "            count += 1\n",
    "    accuracy = count/len(test_y)\n",
    "    return accuracy"
   ]
  },
  {
   "cell_type": "code",
   "execution_count": 29,
   "metadata": {
    "collapsed": false
   },
   "outputs": [],
   "source": [
    "def dt(train_X, test_X, train_y, test_y, max_depth=5, min_samples_leaf=5):\n",
    "    accuracy = 0\n",
    "    tree = build_tree(train_X, train_y, max_depth, min_samples_leaf)\n",
    "    #print_tree(tree)\n",
    "    accuracy = dt_accuracy(test_X, test_y, tree)\n",
    "    return accuracy"
   ]
  },
  {
   "cell_type": "markdown",
   "metadata": {},
   "source": [
    "## <a name='skdt'></a> Scikit Learn"
   ]
  },
  {
   "cell_type": "code",
   "execution_count": 30,
   "metadata": {
    "collapsed": true
   },
   "outputs": [],
   "source": [
    "def dt_with_sklearn(train_X, test_X, train_y, test_y,\n",
    "                    feature_names=None, visualize=False, **kwargs):\n",
    "    if 'random_state' not in kwargs:\n",
    "        kwargs['random_state'] = 1\n",
    "        \n",
    "    clf = tree.DecisionTreeClassifier(**kwargs)\n",
    "    clf.fit(train_X, train_y)\n",
    "    pred = clf.predict(test_X)\n",
    "    if visualize:\n",
    "        visualize_dt(clf, feature_names)\n",
    "    return accuracy_score(pred, test_y)"
   ]
  },
  {
   "cell_type": "code",
   "execution_count": 31,
   "metadata": {
    "collapsed": false,
    "scrolled": false
   },
   "outputs": [],
   "source": [
    "# Visualize Decision Tree\n",
    "\n",
    "def visualize_dt(clf, feature_names=None):\n",
    "    dot_data = StringIO()\n",
    "    tree.export_graphviz(clf, out_file=dot_data,\n",
    "                         class_names=True, feature_names=feature_names)\n",
    "    graph = pydot.graph_from_dot_data(dot_data.getvalue())  \n",
    "    display(Image(graph.create_png()))"
   ]
  },
  {
   "cell_type": "markdown",
   "metadata": {},
   "source": [
    "---\n",
    "\n",
    "# <a name='target'></a> Choosing Predict Target\n",
    "\n",
    "Initial we choose the column `match` as predict target.  "
   ]
  },
  {
   "cell_type": "code",
   "execution_count": 32,
   "metadata": {
    "collapsed": false
   },
   "outputs": [
    {
     "data": {
      "image/png": "[encoded data removed]",
      "text/plain": [
       "<IPython.core.display.Image object>"
      ]
     },
     "metadata": {},
     "output_type": "display_data"
    },
    {
     "data": {
      "text/plain": [
       "1.0"
      ]
     },
     "execution_count": 32,
     "metadata": {},
     "output_type": "execute_result"
    }
   ],
   "source": [
    "copy_df = deepcopy(df)\n",
    "copy_df.fillna(0, inplace=True)\n",
    "\n",
    "copy_df_X = copy_df.drop('match', axis=1)\n",
    "copy_df_y = copy_df['match']\n",
    "\n",
    "X, y = np.array(copy_df_X), np.array(copy_df_y)\n",
    "dt_with_sklearn(*train_test_split(X, y),\n",
    "                visualize=True, feature_names=copy_df_X.columns)"
   ]
  },
  {
   "cell_type": "markdown",
   "metadata": {},
   "source": [
    "The accuracy of using decision tree with all the features to predict will be 1.  \n",
    "After visualizing it, we found that `match` can be directly decided by `dec` and `dec_o` as the following rule.\n",
    "\n",
    "|dec|dec_o|match|\n",
    "|---|---|---|\n",
    "|1|1|1|\n",
    "|1|0|0|\n",
    "|0|1|0|\n",
    "|0|0|0|\n",
    "\n",
    "In other word, only when both `dec` and `dec_o` are true, will `match` be true, which is reasonable.\n",
    "\n",
    "Thus, `dec` and `dec_o` would be redundant when `match` is used as predict target.\n",
    "  \n",
    "  \n",
    "  \n",
    "---"
   ]
  },
  {
   "cell_type": "markdown",
   "metadata": {},
   "source": [
    "However, when we were predicting `match`, we found that even simply using a single feature to predict could achieve the accuracy rate at around 82%."
   ]
  },
  {
   "cell_type": "code",
   "execution_count": 33,
   "metadata": {
    "collapsed": false
   },
   "outputs": [
    {
     "data": {
      "text/plain": [
       "0    6998\n",
       "1    1380\n",
       "Name: match, dtype: int64"
      ]
     },
     "execution_count": 33,
     "metadata": {},
     "output_type": "execute_result"
    }
   ],
   "source": [
    "copy_df['match'].value_counts()"
   ]
  },
  {
   "cell_type": "markdown",
   "metadata": {},
   "source": [
    "Accroding to the ratio above, if our model always guesses 0, we can get accuracy at around 83.528%.  \n",
    "We found that KNN or Decision Tree might not do well on skew data.  "
   ]
  },
  {
   "cell_type": "code",
   "execution_count": 34,
   "metadata": {
    "collapsed": false
   },
   "outputs": [
    {
     "data": {
      "text/plain": [
       "0    4860\n",
       "1    3518\n",
       "Name: dec, dtype: int64"
      ]
     },
     "execution_count": 34,
     "metadata": {},
     "output_type": "execute_result"
    }
   ],
   "source": [
    "copy_df['dec'].value_counts()"
   ]
  },
  {
   "cell_type": "code",
   "execution_count": 35,
   "metadata": {
    "collapsed": false
   },
   "outputs": [
    {
     "data": {
      "text/plain": [
       "0    4863\n",
       "1    3515\n",
       "Name: dec_o, dtype: int64"
      ]
     },
     "execution_count": 35,
     "metadata": {},
     "output_type": "execute_result"
    }
   ],
   "source": [
    "copy_df['dec_o'].value_counts()"
   ]
  },
  {
   "cell_type": "markdown",
   "metadata": {},
   "source": [
    "On the other hand, using `dec` and `dec_o` would not encounter such problem.  \n",
    "Since the data are mostly about the partipant, we decided to use `dec` as predict target and regard `match` as redundant feature."
   ]
  },
  {
   "cell_type": "markdown",
   "metadata": {},
   "source": [
    "\n",
    "---\n",
    "\n",
    "# <a name='trainmethod'></a> Other Training Methods Implementation"
   ]
  },
  {
   "cell_type": "markdown",
   "metadata": {},
   "source": [
    "### Split Data"
   ]
  },
  {
   "cell_type": "code",
   "execution_count": 36,
   "metadata": {
    "collapsed": false
   },
   "outputs": [],
   "source": [
    "LABELS = 'dec'\n",
    "REDUDANT_COLUMNS = 'match'\n",
    "\n",
    "\n",
    "def split_df(df, default_na=0, test_size=0.33, random_state=1):\n",
    "    df = df.fillna(default_na).drop(REDUDANT_COLUMNS, axis=1)\n",
    "    \n",
    "    df_X = df.drop(LABELS, axis=1)\n",
    "    df_y = df[LABELS]\n",
    "    \n",
    "    X, y = np.array(df_X), np.array(df_y)\n",
    "    return train_test_split(X, y,\n",
    "                            test_size=test_size, random_state=random_state)    "
   ]
  },
  {
   "cell_type": "markdown",
   "metadata": {},
   "source": [
    "### Training with All Methods"
   ]
  },
  {
   "cell_type": "code",
   "execution_count": 37,
   "metadata": {
    "collapsed": false
   },
   "outputs": [],
   "source": [
    "def train_with_all_methods(df, verbose=True, **conf):\n",
    "    split_args = conf.get('split_args', dict())\n",
    "    knn_args = conf.get('knn_args', dict())\n",
    "    dt_args = conf.get('dt_args', dict())\n",
    "    \n",
    "    data = split_df(df, **split_args)\n",
    "    t1 = time.clock()\n",
    "    sklearn_knn_acc = knn_with_sklearn(*data, **knn_args)\n",
    "    t2 = time.clock()\n",
    "    sklearn_dt_acc = dt_with_sklearn(*data, **dt_args)\n",
    "    t3 = time.clock()\n",
    "    self_knn_acc = knn(*data, *knn_args)\n",
    "    t4 = time.clock()\n",
    "    self_dt_acc = dt(*data, *dt_args)\n",
    "    t5 = time.clock()\n",
    "    \n",
    "    if verbose:\n",
    "        print('Sklearn KNN Accurary: ', sklearn_knn_acc,\" spends: \", t2-t1,\" s\")\n",
    "        print('Sklearn DT Accurary: ', sklearn_dt_acc,\" spends: \", t3-t2,\" s\")\n",
    "        print('KNN Accurary: ', self_knn_acc,\" spends: \", int((t4-t3) / 60 ), \"min\", (t4-t3) % 60, \" s\")\n",
    "        print('DT Accurary: ', self_dt_acc,\" spends: \", t5-t4, \" s\")\n",
    "    return np.array([sklearn_knn_acc, sklearn_dt_acc])"
   ]
  },
  {
   "cell_type": "markdown",
   "metadata": {},
   "source": [
    "### Training with Different Split"
   ]
  },
  {
   "cell_type": "code",
   "execution_count": 38,
   "metadata": {
    "collapsed": true
   },
   "outputs": [],
   "source": [
    "def train_with_diff_split(df, verbose=True, conf=None, random_states=None, sample_num=1):\n",
    "    if not random_states:\n",
    "        random.seed(0)\n",
    "        random_states = [random.random() for _ in range(sample_num)]\n",
    "        \n",
    "    if not conf:\n",
    "        conf = dict()\n",
    "    conf.setdefault('split_args', {'random_state': 0})\n",
    "    \n",
    "    all_accs = list()\n",
    "    for i, s in enumerate(random_states, 1):\n",
    "        if verbose:\n",
    "            print('\\n-----iter {}, random_state {}---'.format(i, s))\n",
    "        conf['split_args']['random_state'] = s\n",
    "        all_accs.append(train_with_all_methods(df, conf=conf))\n",
    "    return np.average(all_accs, axis=0)"
   ]
  },
  {
   "cell_type": "markdown",
   "metadata": {},
   "source": [
    "### Compare Accuracy"
   ]
  },
  {
   "cell_type": "code",
   "execution_count": 39,
   "metadata": {
    "collapsed": true
   },
   "outputs": [],
   "source": [
    "compare_acc = lambda acc1, acc2: acc1 - acc2"
   ]
  },
  {
   "cell_type": "markdown",
   "metadata": {},
   "source": [
    "---"
   ]
  },
  {
   "cell_type": "markdown",
   "metadata": {},
   "source": [
    "# <a name='feature-selction'></a> Feature Selection"
   ]
  },
  {
   "cell_type": "markdown",
   "metadata": {},
   "source": [
    "## Baseline"
   ]
  },
  {
   "cell_type": "code",
   "execution_count": 40,
   "metadata": {
    "collapsed": true
   },
   "outputs": [],
   "source": [
    "baseline_df = deepcopy(df)"
   ]
  },
  {
   "cell_type": "markdown",
   "metadata": {},
   "source": [
    "### Training"
   ]
  },
  {
   "cell_type": "code",
   "execution_count": null,
   "metadata": {
    "collapsed": false,
    "scrolled": true
   },
   "outputs": [
    {
     "name": "stdout",
     "output_type": "stream",
     "text": [
      "\n",
      "-----iter 1, random_state 0.8444218515250481---\n"
     ]
    }
   ],
   "source": [
    "baseline_acc = train_with_diff_split(baseline_df)\n",
    "baseline_acc"
   ]
  },
  {
   "cell_type": "markdown",
   "metadata": {},
   "source": [
    "### Method to Compare Acuarcy with Baseline"
   ]
  },
  {
   "cell_type": "code",
   "execution_count": 42,
   "metadata": {
    "collapsed": false
   },
   "outputs": [],
   "source": [
    "compare_acc_with_baseline = partial(compare_acc, acc2=baseline_acc)"
   ]
  },
  {
   "cell_type": "markdown",
   "metadata": {},
   "source": [
    "---"
   ]
  },
  {
   "cell_type": "markdown",
   "metadata": {},
   "source": [
    "## Drop Columns or Rows with Too Many Null"
   ]
  },
  {
   "cell_type": "code",
   "execution_count": 43,
   "metadata": {
    "collapsed": true
   },
   "outputs": [],
   "source": [
    "df_drop_nan = deepcopy(df)"
   ]
  },
  {
   "cell_type": "markdown",
   "metadata": {},
   "source": [
    "### Analysis"
   ]
  },
  {
   "cell_type": "code",
   "execution_count": 44,
   "metadata": {
    "collapsed": false
   },
   "outputs": [
    {
     "data": {
      "text/plain": [
       "num_in_3    7710\n",
       "numdat_3    6882\n",
       "expnum      6578\n",
       "sinc7_2     6423\n",
       "amb7_2      6423\n",
       "shar7_2     6404\n",
       "attr7_2     6394\n",
       "fun7_2      6394\n",
       "intel7_2    6394\n",
       "attr5_3     6362\n",
       "dtype: int64"
      ]
     },
     "execution_count": 44,
     "metadata": {},
     "output_type": "execute_result"
    }
   ],
   "source": [
    "# Number of null value of each columns\n",
    "\n",
    "cols_to_null_nums = df_drop_nan.isnull().sum(axis=0).sort_values(ascending=False)\n",
    "cols_to_null_nums[:10]"
   ]
  },
  {
   "cell_type": "code",
   "execution_count": 45,
   "metadata": {
    "collapsed": false
   },
   "outputs": [
    {
     "data": {
      "text/plain": [
       "839    168\n",
       "842    168\n",
       "843    168\n",
       "845    168\n",
       "847    168\n",
       "838    167\n",
       "324    155\n",
       "841    151\n",
       "840    150\n",
       "844    150\n",
       "dtype: int64"
      ]
     },
     "execution_count": 45,
     "metadata": {},
     "output_type": "execute_result"
    }
   ],
   "source": [
    "# Number of null value of each row\n",
    "\n",
    "rows_to_null_nums = df_drop_nan.isnull().sum(axis=1).sort_values(ascending=False)\n",
    "rows_to_null_nums[:10]"
   ]
  },
  {
   "cell_type": "markdown",
   "metadata": {},
   "source": [
    "### Data Processing"
   ]
  },
  {
   "cell_type": "code",
   "execution_count": 46,
   "metadata": {
    "collapsed": true
   },
   "outputs": [],
   "source": [
    "# # Drop Rows\n",
    "\n",
    "# ROW_THREASHOLD = 0\n",
    "\n",
    "# df_drop_nan.dropna(axis=0, thresh=ROW_THREASHOLD, inplace=True);"
   ]
  },
  {
   "cell_type": "code",
   "execution_count": 47,
   "metadata": {
    "collapsed": false
   },
   "outputs": [
    {
     "name": "stdout",
     "output_type": "stream",
     "text": [
      "192\n"
     ]
    }
   ],
   "source": [
    "# Drop Cols\n",
    "\n",
    "COL_THREASHOLD = 1000\n",
    "\n",
    "df_drop_nan.dropna(axis=1, thresh=COL_THREASHOLD, inplace=True)\n",
    "print(len(df_drop_nan.columns))"
   ]
  },
  {
   "cell_type": "markdown",
   "metadata": {},
   "source": [
    "### Training"
   ]
  },
  {
   "cell_type": "code",
   "execution_count": 76,
   "metadata": {
    "collapsed": false,
    "scrolled": true
   },
   "outputs": [
    {
     "name": "stdout",
     "output_type": "stream",
     "text": [
      "\n",
      "-----iter 1, random_state 0.8444218515250481---\n"
     ]
    },
    {
     "ename": "KeyboardInterrupt",
     "evalue": "",
     "output_type": "error",
     "traceback": [
      "\u001b[0;31m---------------------------------------------------------------------------\u001b[0m",
      "\u001b[0;31mKeyboardInterrupt\u001b[0m                         Traceback (most recent call last)",
      "\u001b[0;32m<ipython-input-76-cb0172081804>\u001b[0m in \u001b[0;36m<module>\u001b[0;34m()\u001b[0m\n\u001b[0;32m----> 1\u001b[0;31m \u001b[0mdrop_nan_acc\u001b[0m \u001b[0;34m=\u001b[0m \u001b[0mtrain_with_diff_split\u001b[0m\u001b[0;34m(\u001b[0m\u001b[0mdf_drop_nan\u001b[0m\u001b[0;34m)\u001b[0m\u001b[0;34m\u001b[0m\u001b[0m\n\u001b[0m\u001b[1;32m      2\u001b[0m \u001b[0mdrop_nan_acc\u001b[0m\u001b[0;34m\u001b[0m\u001b[0m\n",
      "\u001b[0;32m<ipython-input-38-2c242ad7aaf4>\u001b[0m in \u001b[0;36mtrain_with_diff_split\u001b[0;34m(df, verbose, conf, random_states, sample_num)\u001b[0m\n\u001b[1;32m     13\u001b[0m             \u001b[0mprint\u001b[0m\u001b[0;34m(\u001b[0m\u001b[0;34m'\\n-----iter {}, random_state {}---'\u001b[0m\u001b[0;34m.\u001b[0m\u001b[0mformat\u001b[0m\u001b[0;34m(\u001b[0m\u001b[0mi\u001b[0m\u001b[0;34m,\u001b[0m \u001b[0ms\u001b[0m\u001b[0;34m)\u001b[0m\u001b[0;34m)\u001b[0m\u001b[0;34m\u001b[0m\u001b[0m\n\u001b[1;32m     14\u001b[0m         \u001b[0mconf\u001b[0m\u001b[0;34m[\u001b[0m\u001b[0;34m'split_args'\u001b[0m\u001b[0;34m]\u001b[0m\u001b[0;34m[\u001b[0m\u001b[0;34m'random_state'\u001b[0m\u001b[0;34m]\u001b[0m \u001b[0;34m=\u001b[0m \u001b[0ms\u001b[0m\u001b[0;34m\u001b[0m\u001b[0m\n\u001b[0;32m---> 15\u001b[0;31m         \u001b[0mall_accs\u001b[0m\u001b[0;34m.\u001b[0m\u001b[0mappend\u001b[0m\u001b[0;34m(\u001b[0m\u001b[0mtrain_with_all_methods\u001b[0m\u001b[0;34m(\u001b[0m\u001b[0mdf\u001b[0m\u001b[0;34m,\u001b[0m \u001b[0mconf\u001b[0m\u001b[0;34m=\u001b[0m\u001b[0mconf\u001b[0m\u001b[0;34m)\u001b[0m\u001b[0;34m)\u001b[0m\u001b[0;34m\u001b[0m\u001b[0m\n\u001b[0m\u001b[1;32m     16\u001b[0m     \u001b[0;32mreturn\u001b[0m \u001b[0mnp\u001b[0m\u001b[0;34m.\u001b[0m\u001b[0maverage\u001b[0m\u001b[0;34m(\u001b[0m\u001b[0mall_accs\u001b[0m\u001b[0;34m,\u001b[0m \u001b[0maxis\u001b[0m\u001b[0;34m=\u001b[0m\u001b[0;36m0\u001b[0m\u001b[0;34m)\u001b[0m\u001b[0;34m\u001b[0m\u001b[0m\n",
      "\u001b[0;32m<ipython-input-37-d28138a5c23c>\u001b[0m in \u001b[0;36mtrain_with_all_methods\u001b[0;34m(df, verbose, **conf)\u001b[0m\n\u001b[1;32m     10\u001b[0m     \u001b[0msklearn_dt_acc\u001b[0m \u001b[0;34m=\u001b[0m \u001b[0mdt_with_sklearn\u001b[0m\u001b[0;34m(\u001b[0m\u001b[0;34m*\u001b[0m\u001b[0mdata\u001b[0m\u001b[0;34m,\u001b[0m \u001b[0;34m**\u001b[0m\u001b[0mdt_args\u001b[0m\u001b[0;34m)\u001b[0m\u001b[0;34m\u001b[0m\u001b[0m\n\u001b[1;32m     11\u001b[0m     \u001b[0mt3\u001b[0m \u001b[0;34m=\u001b[0m \u001b[0mtime\u001b[0m\u001b[0;34m.\u001b[0m\u001b[0mclock\u001b[0m\u001b[0;34m(\u001b[0m\u001b[0;34m)\u001b[0m\u001b[0;34m\u001b[0m\u001b[0m\n\u001b[0;32m---> 12\u001b[0;31m     \u001b[0mself_knn_acc\u001b[0m \u001b[0;34m=\u001b[0m \u001b[0mknn\u001b[0m\u001b[0;34m(\u001b[0m\u001b[0;34m*\u001b[0m\u001b[0mdata\u001b[0m\u001b[0;34m,\u001b[0m \u001b[0;34m*\u001b[0m\u001b[0mknn_args\u001b[0m\u001b[0;34m)\u001b[0m\u001b[0;34m\u001b[0m\u001b[0m\n\u001b[0m\u001b[1;32m     13\u001b[0m     \u001b[0mt4\u001b[0m \u001b[0;34m=\u001b[0m \u001b[0mtime\u001b[0m\u001b[0;34m.\u001b[0m\u001b[0mclock\u001b[0m\u001b[0;34m(\u001b[0m\u001b[0;34m)\u001b[0m\u001b[0;34m\u001b[0m\u001b[0m\n\u001b[1;32m     14\u001b[0m     \u001b[0mself_dt_acc\u001b[0m \u001b[0;34m=\u001b[0m \u001b[0mdt\u001b[0m\u001b[0;34m(\u001b[0m\u001b[0;34m*\u001b[0m\u001b[0mdata\u001b[0m\u001b[0;34m,\u001b[0m \u001b[0;34m*\u001b[0m\u001b[0mdt_args\u001b[0m\u001b[0;34m)\u001b[0m\u001b[0;34m\u001b[0m\u001b[0m\n",
      "\u001b[0;32m<ipython-input-75-495c6aa70f82>\u001b[0m in \u001b[0;36mknn\u001b[0;34m(train_X, test_X, train_y, test_y, n_neighbors)\u001b[0m\n\u001b[1;32m      2\u001b[0m     \u001b[0mcount\u001b[0m \u001b[0;34m=\u001b[0m \u001b[0;36m0\u001b[0m\u001b[0;34m\u001b[0m\u001b[0m\n\u001b[1;32m      3\u001b[0m     \u001b[0;32mfor\u001b[0m \u001b[0mfeature\u001b[0m\u001b[0;34m,\u001b[0m \u001b[0mlabel\u001b[0m \u001b[0;32min\u001b[0m \u001b[0mzip\u001b[0m\u001b[0;34m(\u001b[0m\u001b[0mtest_X\u001b[0m\u001b[0;34m,\u001b[0m \u001b[0mtest_y\u001b[0m\u001b[0;34m)\u001b[0m\u001b[0;34m:\u001b[0m\u001b[0;34m\u001b[0m\u001b[0m\n\u001b[0;32m----> 4\u001b[0;31m         \u001b[0mpred_y\u001b[0m \u001b[0;34m=\u001b[0m \u001b[0mknn_class\u001b[0m\u001b[0;34m(\u001b[0m\u001b[0mfeature\u001b[0m\u001b[0;34m,\u001b[0m \u001b[0mtrain_X\u001b[0m\u001b[0;34m,\u001b[0m \u001b[0mtrain_y\u001b[0m\u001b[0;34m,\u001b[0m \u001b[0mn_neighbors\u001b[0m\u001b[0;34m)\u001b[0m\u001b[0;34m\u001b[0m\u001b[0m\n\u001b[0m\u001b[1;32m      5\u001b[0m         \u001b[0;31m#if pred_y == to_tuple(label):\u001b[0m\u001b[0;34m\u001b[0m\u001b[0;34m\u001b[0m\u001b[0m\n\u001b[1;32m      6\u001b[0m         \u001b[0;32mif\u001b[0m \u001b[0mpred_y\u001b[0m \u001b[0;34m==\u001b[0m \u001b[0mlabel\u001b[0m\u001b[0;34m:\u001b[0m\u001b[0;34m\u001b[0m\u001b[0m\n",
      "\u001b[0;32m<ipython-input-73-43d08c034383>\u001b[0m in \u001b[0;36mknn_class\u001b[0;34m(test_X, train_X, train_y, k)\u001b[0m\n\u001b[1;32m      1\u001b[0m \u001b[0;32mdef\u001b[0m \u001b[0mknn_class\u001b[0m\u001b[0;34m(\u001b[0m\u001b[0mtest_X\u001b[0m\u001b[0;34m,\u001b[0m \u001b[0mtrain_X\u001b[0m\u001b[0;34m,\u001b[0m \u001b[0mtrain_y\u001b[0m\u001b[0;34m,\u001b[0m \u001b[0mk\u001b[0m\u001b[0;34m=\u001b[0m\u001b[0;36m5\u001b[0m\u001b[0;34m)\u001b[0m\u001b[0;34m:\u001b[0m\u001b[0;34m\u001b[0m\u001b[0m\n\u001b[0;32m----> 2\u001b[0;31m     \u001b[0mindex\u001b[0m \u001b[0;34m=\u001b[0m \u001b[0mspatial\u001b[0m\u001b[0;34m.\u001b[0m\u001b[0mKDTree\u001b[0m\u001b[0;34m(\u001b[0m\u001b[0mtrain_X\u001b[0m\u001b[0;34m)\u001b[0m\u001b[0;34m.\u001b[0m\u001b[0mquery\u001b[0m\u001b[0;34m(\u001b[0m\u001b[0mtest_X\u001b[0m\u001b[0;34m)\u001b[0m\u001b[0;34m[\u001b[0m\u001b[0;36m1\u001b[0m\u001b[0;34m]\u001b[0m\u001b[0;34m\u001b[0m\u001b[0m\n\u001b[0m\u001b[1;32m      3\u001b[0m     \u001b[0mpred\u001b[0m \u001b[0;34m=\u001b[0m \u001b[0mtrain_y\u001b[0m\u001b[0;34m[\u001b[0m\u001b[0mindex\u001b[0m\u001b[0;34m]\u001b[0m\u001b[0;34m\u001b[0m\u001b[0m\n\u001b[1;32m      4\u001b[0m     \u001b[0;32mreturn\u001b[0m \u001b[0mpred\u001b[0m\u001b[0;34m\u001b[0m\u001b[0m\n",
      "\u001b[0;32m/Users/nacat/anaconda3/lib/python3.5/site-packages/scipy/spatial/kdtree.py\u001b[0m in \u001b[0;36m__init__\u001b[0;34m(self, data, leafsize)\u001b[0m\n\u001b[1;32m    240\u001b[0m         \u001b[0mself\u001b[0m\u001b[0;34m.\u001b[0m\u001b[0mmins\u001b[0m \u001b[0;34m=\u001b[0m \u001b[0mnp\u001b[0m\u001b[0;34m.\u001b[0m\u001b[0mamin\u001b[0m\u001b[0;34m(\u001b[0m\u001b[0mself\u001b[0m\u001b[0;34m.\u001b[0m\u001b[0mdata\u001b[0m\u001b[0;34m,\u001b[0m\u001b[0maxis\u001b[0m\u001b[0;34m=\u001b[0m\u001b[0;36m0\u001b[0m\u001b[0;34m)\u001b[0m\u001b[0;34m\u001b[0m\u001b[0m\n\u001b[1;32m    241\u001b[0m \u001b[0;34m\u001b[0m\u001b[0m\n\u001b[0;32m--> 242\u001b[0;31m         \u001b[0mself\u001b[0m\u001b[0;34m.\u001b[0m\u001b[0mtree\u001b[0m \u001b[0;34m=\u001b[0m \u001b[0mself\u001b[0m\u001b[0;34m.\u001b[0m\u001b[0m__build\u001b[0m\u001b[0;34m(\u001b[0m\u001b[0mnp\u001b[0m\u001b[0;34m.\u001b[0m\u001b[0marange\u001b[0m\u001b[0;34m(\u001b[0m\u001b[0mself\u001b[0m\u001b[0;34m.\u001b[0m\u001b[0mn\u001b[0m\u001b[0;34m)\u001b[0m\u001b[0;34m,\u001b[0m \u001b[0mself\u001b[0m\u001b[0;34m.\u001b[0m\u001b[0mmaxes\u001b[0m\u001b[0;34m,\u001b[0m \u001b[0mself\u001b[0m\u001b[0;34m.\u001b[0m\u001b[0mmins\u001b[0m\u001b[0;34m)\u001b[0m\u001b[0;34m\u001b[0m\u001b[0m\n\u001b[0m\u001b[1;32m    243\u001b[0m \u001b[0;34m\u001b[0m\u001b[0m\n\u001b[1;32m    244\u001b[0m     \u001b[0;32mclass\u001b[0m \u001b[0mnode\u001b[0m\u001b[0;34m(\u001b[0m\u001b[0mobject\u001b[0m\u001b[0;34m)\u001b[0m\u001b[0;34m:\u001b[0m\u001b[0;34m\u001b[0m\u001b[0m\n",
      "\u001b[0;32m/Users/nacat/anaconda3/lib/python3.5/site-packages/scipy/spatial/kdtree.py\u001b[0m in \u001b[0;36m__build\u001b[0;34m(self, idx, maxes, mins)\u001b[0m\n\u001b[1;32m    313\u001b[0m             \u001b[0mgreatermins\u001b[0m\u001b[0;34m[\u001b[0m\u001b[0md\u001b[0m\u001b[0;34m]\u001b[0m \u001b[0;34m=\u001b[0m \u001b[0msplit\u001b[0m\u001b[0;34m\u001b[0m\u001b[0m\n\u001b[1;32m    314\u001b[0m             return KDTree.innernode(d, split,\n\u001b[0;32m--> 315\u001b[0;31m                     \u001b[0mself\u001b[0m\u001b[0;34m.\u001b[0m\u001b[0m__build\u001b[0m\u001b[0;34m(\u001b[0m\u001b[0midx\u001b[0m\u001b[0;34m[\u001b[0m\u001b[0mless_idx\u001b[0m\u001b[0;34m]\u001b[0m\u001b[0;34m,\u001b[0m\u001b[0mlessmaxes\u001b[0m\u001b[0;34m,\u001b[0m\u001b[0mmins\u001b[0m\u001b[0;34m)\u001b[0m\u001b[0;34m,\u001b[0m\u001b[0;34m\u001b[0m\u001b[0m\n\u001b[0m\u001b[1;32m    316\u001b[0m                     self.__build(idx[greater_idx],maxes,greatermins))\n\u001b[1;32m    317\u001b[0m \u001b[0;34m\u001b[0m\u001b[0m\n",
      "\u001b[0;32m/Users/nacat/anaconda3/lib/python3.5/site-packages/scipy/spatial/kdtree.py\u001b[0m in \u001b[0;36m__build\u001b[0;34m(self, idx, maxes, mins)\u001b[0m\n\u001b[1;32m    313\u001b[0m             \u001b[0mgreatermins\u001b[0m\u001b[0;34m[\u001b[0m\u001b[0md\u001b[0m\u001b[0;34m]\u001b[0m \u001b[0;34m=\u001b[0m \u001b[0msplit\u001b[0m\u001b[0;34m\u001b[0m\u001b[0m\n\u001b[1;32m    314\u001b[0m             return KDTree.innernode(d, split,\n\u001b[0;32m--> 315\u001b[0;31m                     \u001b[0mself\u001b[0m\u001b[0;34m.\u001b[0m\u001b[0m__build\u001b[0m\u001b[0;34m(\u001b[0m\u001b[0midx\u001b[0m\u001b[0;34m[\u001b[0m\u001b[0mless_idx\u001b[0m\u001b[0;34m]\u001b[0m\u001b[0;34m,\u001b[0m\u001b[0mlessmaxes\u001b[0m\u001b[0;34m,\u001b[0m\u001b[0mmins\u001b[0m\u001b[0;34m)\u001b[0m\u001b[0;34m,\u001b[0m\u001b[0;34m\u001b[0m\u001b[0m\n\u001b[0m\u001b[1;32m    316\u001b[0m                     self.__build(idx[greater_idx],maxes,greatermins))\n\u001b[1;32m    317\u001b[0m \u001b[0;34m\u001b[0m\u001b[0m\n",
      "\u001b[0;32m/Users/nacat/anaconda3/lib/python3.5/site-packages/scipy/spatial/kdtree.py\u001b[0m in \u001b[0;36m__build\u001b[0;34m(self, idx, maxes, mins)\u001b[0m\n\u001b[1;32m    313\u001b[0m             \u001b[0mgreatermins\u001b[0m\u001b[0;34m[\u001b[0m\u001b[0md\u001b[0m\u001b[0;34m]\u001b[0m \u001b[0;34m=\u001b[0m \u001b[0msplit\u001b[0m\u001b[0;34m\u001b[0m\u001b[0m\n\u001b[1;32m    314\u001b[0m             return KDTree.innernode(d, split,\n\u001b[0;32m--> 315\u001b[0;31m                     \u001b[0mself\u001b[0m\u001b[0;34m.\u001b[0m\u001b[0m__build\u001b[0m\u001b[0;34m(\u001b[0m\u001b[0midx\u001b[0m\u001b[0;34m[\u001b[0m\u001b[0mless_idx\u001b[0m\u001b[0;34m]\u001b[0m\u001b[0;34m,\u001b[0m\u001b[0mlessmaxes\u001b[0m\u001b[0;34m,\u001b[0m\u001b[0mmins\u001b[0m\u001b[0;34m)\u001b[0m\u001b[0;34m,\u001b[0m\u001b[0;34m\u001b[0m\u001b[0m\n\u001b[0m\u001b[1;32m    316\u001b[0m                     self.__build(idx[greater_idx],maxes,greatermins))\n\u001b[1;32m    317\u001b[0m \u001b[0;34m\u001b[0m\u001b[0m\n",
      "\u001b[0;32m/Users/nacat/anaconda3/lib/python3.5/site-packages/scipy/spatial/kdtree.py\u001b[0m in \u001b[0;36m__build\u001b[0;34m(self, idx, maxes, mins)\u001b[0m\n\u001b[1;32m    313\u001b[0m             \u001b[0mgreatermins\u001b[0m\u001b[0;34m[\u001b[0m\u001b[0md\u001b[0m\u001b[0;34m]\u001b[0m \u001b[0;34m=\u001b[0m \u001b[0msplit\u001b[0m\u001b[0;34m\u001b[0m\u001b[0m\n\u001b[1;32m    314\u001b[0m             return KDTree.innernode(d, split,\n\u001b[0;32m--> 315\u001b[0;31m                     \u001b[0mself\u001b[0m\u001b[0;34m.\u001b[0m\u001b[0m__build\u001b[0m\u001b[0;34m(\u001b[0m\u001b[0midx\u001b[0m\u001b[0;34m[\u001b[0m\u001b[0mless_idx\u001b[0m\u001b[0;34m]\u001b[0m\u001b[0;34m,\u001b[0m\u001b[0mlessmaxes\u001b[0m\u001b[0;34m,\u001b[0m\u001b[0mmins\u001b[0m\u001b[0;34m)\u001b[0m\u001b[0;34m,\u001b[0m\u001b[0;34m\u001b[0m\u001b[0m\n\u001b[0m\u001b[1;32m    316\u001b[0m                     self.__build(idx[greater_idx],maxes,greatermins))\n\u001b[1;32m    317\u001b[0m \u001b[0;34m\u001b[0m\u001b[0m\n",
      "\u001b[0;32m/Users/nacat/anaconda3/lib/python3.5/site-packages/scipy/spatial/kdtree.py\u001b[0m in \u001b[0;36m__build\u001b[0;34m(self, idx, maxes, mins)\u001b[0m\n\u001b[1;32m    313\u001b[0m             \u001b[0mgreatermins\u001b[0m\u001b[0;34m[\u001b[0m\u001b[0md\u001b[0m\u001b[0;34m]\u001b[0m \u001b[0;34m=\u001b[0m \u001b[0msplit\u001b[0m\u001b[0;34m\u001b[0m\u001b[0m\n\u001b[1;32m    314\u001b[0m             return KDTree.innernode(d, split,\n\u001b[0;32m--> 315\u001b[0;31m                     \u001b[0mself\u001b[0m\u001b[0;34m.\u001b[0m\u001b[0m__build\u001b[0m\u001b[0;34m(\u001b[0m\u001b[0midx\u001b[0m\u001b[0;34m[\u001b[0m\u001b[0mless_idx\u001b[0m\u001b[0;34m]\u001b[0m\u001b[0;34m,\u001b[0m\u001b[0mlessmaxes\u001b[0m\u001b[0;34m,\u001b[0m\u001b[0mmins\u001b[0m\u001b[0;34m)\u001b[0m\u001b[0;34m,\u001b[0m\u001b[0;34m\u001b[0m\u001b[0m\n\u001b[0m\u001b[1;32m    316\u001b[0m                     self.__build(idx[greater_idx],maxes,greatermins))\n\u001b[1;32m    317\u001b[0m \u001b[0;34m\u001b[0m\u001b[0m\n",
      "\u001b[0;32m/Users/nacat/anaconda3/lib/python3.5/site-packages/scipy/spatial/kdtree.py\u001b[0m in \u001b[0;36m__build\u001b[0;34m(self, idx, maxes, mins)\u001b[0m\n\u001b[1;32m    313\u001b[0m             \u001b[0mgreatermins\u001b[0m\u001b[0;34m[\u001b[0m\u001b[0md\u001b[0m\u001b[0;34m]\u001b[0m \u001b[0;34m=\u001b[0m \u001b[0msplit\u001b[0m\u001b[0;34m\u001b[0m\u001b[0m\n\u001b[1;32m    314\u001b[0m             return KDTree.innernode(d, split,\n\u001b[0;32m--> 315\u001b[0;31m                     \u001b[0mself\u001b[0m\u001b[0;34m.\u001b[0m\u001b[0m__build\u001b[0m\u001b[0;34m(\u001b[0m\u001b[0midx\u001b[0m\u001b[0;34m[\u001b[0m\u001b[0mless_idx\u001b[0m\u001b[0;34m]\u001b[0m\u001b[0;34m,\u001b[0m\u001b[0mlessmaxes\u001b[0m\u001b[0;34m,\u001b[0m\u001b[0mmins\u001b[0m\u001b[0;34m)\u001b[0m\u001b[0;34m,\u001b[0m\u001b[0;34m\u001b[0m\u001b[0m\n\u001b[0m\u001b[1;32m    316\u001b[0m                     self.__build(idx[greater_idx],maxes,greatermins))\n\u001b[1;32m    317\u001b[0m \u001b[0;34m\u001b[0m\u001b[0m\n",
      "\u001b[0;32m/Users/nacat/anaconda3/lib/python3.5/site-packages/scipy/spatial/kdtree.py\u001b[0m in \u001b[0;36m__build\u001b[0;34m(self, idx, maxes, mins)\u001b[0m\n\u001b[1;32m    313\u001b[0m             \u001b[0mgreatermins\u001b[0m\u001b[0;34m[\u001b[0m\u001b[0md\u001b[0m\u001b[0;34m]\u001b[0m \u001b[0;34m=\u001b[0m \u001b[0msplit\u001b[0m\u001b[0;34m\u001b[0m\u001b[0m\n\u001b[1;32m    314\u001b[0m             return KDTree.innernode(d, split,\n\u001b[0;32m--> 315\u001b[0;31m                     \u001b[0mself\u001b[0m\u001b[0;34m.\u001b[0m\u001b[0m__build\u001b[0m\u001b[0;34m(\u001b[0m\u001b[0midx\u001b[0m\u001b[0;34m[\u001b[0m\u001b[0mless_idx\u001b[0m\u001b[0;34m]\u001b[0m\u001b[0;34m,\u001b[0m\u001b[0mlessmaxes\u001b[0m\u001b[0;34m,\u001b[0m\u001b[0mmins\u001b[0m\u001b[0;34m)\u001b[0m\u001b[0;34m,\u001b[0m\u001b[0;34m\u001b[0m\u001b[0m\n\u001b[0m\u001b[1;32m    316\u001b[0m                     self.__build(idx[greater_idx],maxes,greatermins))\n\u001b[1;32m    317\u001b[0m \u001b[0;34m\u001b[0m\u001b[0m\n",
      "\u001b[0;32m/Users/nacat/anaconda3/lib/python3.5/site-packages/scipy/spatial/kdtree.py\u001b[0m in \u001b[0;36m__build\u001b[0;34m(self, idx, maxes, mins)\u001b[0m\n\u001b[1;32m    313\u001b[0m             \u001b[0mgreatermins\u001b[0m\u001b[0;34m[\u001b[0m\u001b[0md\u001b[0m\u001b[0;34m]\u001b[0m \u001b[0;34m=\u001b[0m \u001b[0msplit\u001b[0m\u001b[0;34m\u001b[0m\u001b[0m\n\u001b[1;32m    314\u001b[0m             return KDTree.innernode(d, split,\n\u001b[0;32m--> 315\u001b[0;31m                     \u001b[0mself\u001b[0m\u001b[0;34m.\u001b[0m\u001b[0m__build\u001b[0m\u001b[0;34m(\u001b[0m\u001b[0midx\u001b[0m\u001b[0;34m[\u001b[0m\u001b[0mless_idx\u001b[0m\u001b[0;34m]\u001b[0m\u001b[0;34m,\u001b[0m\u001b[0mlessmaxes\u001b[0m\u001b[0;34m,\u001b[0m\u001b[0mmins\u001b[0m\u001b[0;34m)\u001b[0m\u001b[0;34m,\u001b[0m\u001b[0;34m\u001b[0m\u001b[0m\n\u001b[0m\u001b[1;32m    316\u001b[0m                     self.__build(idx[greater_idx],maxes,greatermins))\n\u001b[1;32m    317\u001b[0m \u001b[0;34m\u001b[0m\u001b[0m\n",
      "\u001b[0;32m/Users/nacat/anaconda3/lib/python3.5/site-packages/scipy/spatial/kdtree.py\u001b[0m in \u001b[0;36m__build\u001b[0;34m(self, idx, maxes, mins)\u001b[0m\n\u001b[1;32m    313\u001b[0m             \u001b[0mgreatermins\u001b[0m\u001b[0;34m[\u001b[0m\u001b[0md\u001b[0m\u001b[0;34m]\u001b[0m \u001b[0;34m=\u001b[0m \u001b[0msplit\u001b[0m\u001b[0;34m\u001b[0m\u001b[0m\n\u001b[1;32m    314\u001b[0m             return KDTree.innernode(d, split,\n\u001b[0;32m--> 315\u001b[0;31m                     \u001b[0mself\u001b[0m\u001b[0;34m.\u001b[0m\u001b[0m__build\u001b[0m\u001b[0;34m(\u001b[0m\u001b[0midx\u001b[0m\u001b[0;34m[\u001b[0m\u001b[0mless_idx\u001b[0m\u001b[0;34m]\u001b[0m\u001b[0;34m,\u001b[0m\u001b[0mlessmaxes\u001b[0m\u001b[0;34m,\u001b[0m\u001b[0mmins\u001b[0m\u001b[0;34m)\u001b[0m\u001b[0;34m,\u001b[0m\u001b[0;34m\u001b[0m\u001b[0m\n\u001b[0m\u001b[1;32m    316\u001b[0m                     self.__build(idx[greater_idx],maxes,greatermins))\n\u001b[1;32m    317\u001b[0m \u001b[0;34m\u001b[0m\u001b[0m\n",
      "\u001b[0;32m/Users/nacat/anaconda3/lib/python3.5/site-packages/scipy/spatial/kdtree.py\u001b[0m in \u001b[0;36m__build\u001b[0;34m(self, idx, maxes, mins)\u001b[0m\n\u001b[1;32m    313\u001b[0m             \u001b[0mgreatermins\u001b[0m\u001b[0;34m[\u001b[0m\u001b[0md\u001b[0m\u001b[0;34m]\u001b[0m \u001b[0;34m=\u001b[0m \u001b[0msplit\u001b[0m\u001b[0;34m\u001b[0m\u001b[0m\n\u001b[1;32m    314\u001b[0m             return KDTree.innernode(d, split,\n\u001b[0;32m--> 315\u001b[0;31m                     \u001b[0mself\u001b[0m\u001b[0;34m.\u001b[0m\u001b[0m__build\u001b[0m\u001b[0;34m(\u001b[0m\u001b[0midx\u001b[0m\u001b[0;34m[\u001b[0m\u001b[0mless_idx\u001b[0m\u001b[0;34m]\u001b[0m\u001b[0;34m,\u001b[0m\u001b[0mlessmaxes\u001b[0m\u001b[0;34m,\u001b[0m\u001b[0mmins\u001b[0m\u001b[0;34m)\u001b[0m\u001b[0;34m,\u001b[0m\u001b[0;34m\u001b[0m\u001b[0m\n\u001b[0m\u001b[1;32m    316\u001b[0m                     self.__build(idx[greater_idx],maxes,greatermins))\n\u001b[1;32m    317\u001b[0m \u001b[0;34m\u001b[0m\u001b[0m\n",
      "\u001b[0;32m/Users/nacat/anaconda3/lib/python3.5/site-packages/scipy/spatial/kdtree.py\u001b[0m in \u001b[0;36m__build\u001b[0;34m(self, idx, maxes, mins)\u001b[0m\n\u001b[1;32m    313\u001b[0m             \u001b[0mgreatermins\u001b[0m\u001b[0;34m[\u001b[0m\u001b[0md\u001b[0m\u001b[0;34m]\u001b[0m \u001b[0;34m=\u001b[0m \u001b[0msplit\u001b[0m\u001b[0;34m\u001b[0m\u001b[0m\n\u001b[1;32m    314\u001b[0m             return KDTree.innernode(d, split,\n\u001b[0;32m--> 315\u001b[0;31m                     \u001b[0mself\u001b[0m\u001b[0;34m.\u001b[0m\u001b[0m__build\u001b[0m\u001b[0;34m(\u001b[0m\u001b[0midx\u001b[0m\u001b[0;34m[\u001b[0m\u001b[0mless_idx\u001b[0m\u001b[0;34m]\u001b[0m\u001b[0;34m,\u001b[0m\u001b[0mlessmaxes\u001b[0m\u001b[0;34m,\u001b[0m\u001b[0mmins\u001b[0m\u001b[0;34m)\u001b[0m\u001b[0;34m,\u001b[0m\u001b[0;34m\u001b[0m\u001b[0m\n\u001b[0m\u001b[1;32m    316\u001b[0m                     self.__build(idx[greater_idx],maxes,greatermins))\n\u001b[1;32m    317\u001b[0m \u001b[0;34m\u001b[0m\u001b[0m\n",
      "\u001b[0;32m/Users/nacat/anaconda3/lib/python3.5/site-packages/scipy/spatial/kdtree.py\u001b[0m in \u001b[0;36m__build\u001b[0;34m(self, idx, maxes, mins)\u001b[0m\n\u001b[1;32m    313\u001b[0m             \u001b[0mgreatermins\u001b[0m\u001b[0;34m[\u001b[0m\u001b[0md\u001b[0m\u001b[0;34m]\u001b[0m \u001b[0;34m=\u001b[0m \u001b[0msplit\u001b[0m\u001b[0;34m\u001b[0m\u001b[0m\n\u001b[1;32m    314\u001b[0m             return KDTree.innernode(d, split,\n\u001b[0;32m--> 315\u001b[0;31m                     \u001b[0mself\u001b[0m\u001b[0;34m.\u001b[0m\u001b[0m__build\u001b[0m\u001b[0;34m(\u001b[0m\u001b[0midx\u001b[0m\u001b[0;34m[\u001b[0m\u001b[0mless_idx\u001b[0m\u001b[0;34m]\u001b[0m\u001b[0;34m,\u001b[0m\u001b[0mlessmaxes\u001b[0m\u001b[0;34m,\u001b[0m\u001b[0mmins\u001b[0m\u001b[0;34m)\u001b[0m\u001b[0;34m,\u001b[0m\u001b[0;34m\u001b[0m\u001b[0m\n\u001b[0m\u001b[1;32m    316\u001b[0m                     self.__build(idx[greater_idx],maxes,greatermins))\n\u001b[1;32m    317\u001b[0m \u001b[0;34m\u001b[0m\u001b[0m\n",
      "\u001b[0;32m/Users/nacat/anaconda3/lib/python3.5/site-packages/scipy/spatial/kdtree.py\u001b[0m in \u001b[0;36m__build\u001b[0;34m(self, idx, maxes, mins)\u001b[0m\n\u001b[1;32m    313\u001b[0m             \u001b[0mgreatermins\u001b[0m\u001b[0;34m[\u001b[0m\u001b[0md\u001b[0m\u001b[0;34m]\u001b[0m \u001b[0;34m=\u001b[0m \u001b[0msplit\u001b[0m\u001b[0;34m\u001b[0m\u001b[0m\n\u001b[1;32m    314\u001b[0m             return KDTree.innernode(d, split,\n\u001b[0;32m--> 315\u001b[0;31m                     \u001b[0mself\u001b[0m\u001b[0;34m.\u001b[0m\u001b[0m__build\u001b[0m\u001b[0;34m(\u001b[0m\u001b[0midx\u001b[0m\u001b[0;34m[\u001b[0m\u001b[0mless_idx\u001b[0m\u001b[0;34m]\u001b[0m\u001b[0;34m,\u001b[0m\u001b[0mlessmaxes\u001b[0m\u001b[0;34m,\u001b[0m\u001b[0mmins\u001b[0m\u001b[0;34m)\u001b[0m\u001b[0;34m,\u001b[0m\u001b[0;34m\u001b[0m\u001b[0m\n\u001b[0m\u001b[1;32m    316\u001b[0m                     self.__build(idx[greater_idx],maxes,greatermins))\n\u001b[1;32m    317\u001b[0m \u001b[0;34m\u001b[0m\u001b[0m\n",
      "\u001b[0;32m/Users/nacat/anaconda3/lib/python3.5/site-packages/scipy/spatial/kdtree.py\u001b[0m in \u001b[0;36m__build\u001b[0;34m(self, idx, maxes, mins)\u001b[0m\n\u001b[1;32m    276\u001b[0m             \u001b[0;32mreturn\u001b[0m \u001b[0mKDTree\u001b[0m\u001b[0;34m.\u001b[0m\u001b[0mleafnode\u001b[0m\u001b[0;34m(\u001b[0m\u001b[0midx\u001b[0m\u001b[0;34m)\u001b[0m\u001b[0;34m\u001b[0m\u001b[0m\n\u001b[1;32m    277\u001b[0m         \u001b[0;32melse\u001b[0m\u001b[0;34m:\u001b[0m\u001b[0;34m\u001b[0m\u001b[0m\n\u001b[0;32m--> 278\u001b[0;31m             \u001b[0mdata\u001b[0m \u001b[0;34m=\u001b[0m \u001b[0mself\u001b[0m\u001b[0;34m.\u001b[0m\u001b[0mdata\u001b[0m\u001b[0;34m[\u001b[0m\u001b[0midx\u001b[0m\u001b[0;34m]\u001b[0m\u001b[0;34m\u001b[0m\u001b[0m\n\u001b[0m\u001b[1;32m    279\u001b[0m             \u001b[0;31m# maxes = np.amax(data,axis=0)\u001b[0m\u001b[0;34m\u001b[0m\u001b[0;34m\u001b[0m\u001b[0m\n\u001b[1;32m    280\u001b[0m             \u001b[0;31m# mins = np.amin(data,axis=0)\u001b[0m\u001b[0;34m\u001b[0m\u001b[0;34m\u001b[0m\u001b[0m\n",
      "\u001b[0;31mKeyboardInterrupt\u001b[0m: "
     ]
    }
   ],
   "source": [
    "drop_nan_acc = train_with_diff_split(df_drop_nan)\n",
    "drop_nan_acc"
   ]
  },
  {
   "cell_type": "markdown",
   "metadata": {},
   "source": [
    "### Compare"
   ]
  },
  {
   "cell_type": "code",
   "execution_count": 49,
   "metadata": {
    "collapsed": false
   },
   "outputs": [
    {
     "ename": "NameError",
     "evalue": "name 'drop_nan_acc' is not defined",
     "output_type": "error",
     "traceback": [
      "\u001b[0;31m---------------------------------------------------------------------------\u001b[0m",
      "\u001b[0;31mNameError\u001b[0m                                 Traceback (most recent call last)",
      "\u001b[0;32m<ipython-input-49-e92d3b15c231>\u001b[0m in \u001b[0;36m<module>\u001b[0;34m()\u001b[0m\n\u001b[0;32m----> 1\u001b[0;31m \u001b[0mcompare_acc_with_baseline\u001b[0m\u001b[0;34m(\u001b[0m\u001b[0mdrop_nan_acc\u001b[0m\u001b[0;34m)\u001b[0m\u001b[0;34m\u001b[0m\u001b[0m\n\u001b[0m",
      "\u001b[0;31mNameError\u001b[0m: name 'drop_nan_acc' is not defined"
     ]
    }
   ],
   "source": [
    "compare_acc_with_baseline(drop_nan_acc)"
   ]
  },
  {
   "cell_type": "markdown",
   "metadata": {},
   "source": [
    "---"
   ]
  },
  {
   "cell_type": "markdown",
   "metadata": {},
   "source": [
    "## Hobby Similarity"
   ]
  },
  {
   "cell_type": "code",
   "execution_count": null,
   "metadata": {
    "collapsed": true
   },
   "outputs": [],
   "source": [
    "df_hs = deepcopy(df)"
   ]
  },
  {
   "cell_type": "markdown",
   "metadata": {},
   "source": [
    "### Data Processing"
   ]
  },
  {
   "cell_type": "code",
   "execution_count": null,
   "metadata": {
    "collapsed": true
   },
   "outputs": [],
   "source": [
    "HOBBY_COLUMNS = [\n",
    "    'sports', 'tvsports', 'exercise', 'dining', 'museums', 'art',\n",
    "    'hiking', 'gaming', 'clubbing', 'reading', 'tv', 'theater',\n",
    "    'movies', 'concerts', 'music', 'shopping', 'yoga'\n",
    "]\n",
    "\n",
    "similiar_thres = 1"
   ]
  },
  {
   "cell_type": "code",
   "execution_count": null,
   "metadata": {
    "collapsed": false
   },
   "outputs": [],
   "source": [
    "def count_hobby_similarity(joined_df,\n",
    "                           similiar_thres=1,\n",
    "                           na_default=-1):\n",
    "    joined_df_no_na = joined_df.fillna(na_default)\n",
    "    ss = list()\n",
    "    for hobby in HOBBY_COLUMNS:\n",
    "        temp_s = abs(joined_df_no_na[hobby+'_x'] - joined_df_no_na[hobby+'_y'])\n",
    "        temp_s = (temp_s <= similiar_thres).astype(int)\n",
    "        ss.append(temp_s)\n",
    "    return sum(ss)"
   ]
  },
  {
   "cell_type": "code",
   "execution_count": null,
   "metadata": {
    "collapsed": false
   },
   "outputs": [],
   "source": [
    "df_hs['sim_hob_num'] = count_hobby_similarity(joined_df, similiar_thres=1)"
   ]
  },
  {
   "cell_type": "code",
   "execution_count": null,
   "metadata": {
    "collapsed": false
   },
   "outputs": [],
   "source": [
    "df_hs.drop(HOBBY_COLUMNS, axis=1, inplace=True)"
   ]
  },
  {
   "cell_type": "markdown",
   "metadata": {},
   "source": [
    "### Training"
   ]
  },
  {
   "cell_type": "code",
   "execution_count": null,
   "metadata": {
    "collapsed": false
   },
   "outputs": [],
   "source": [
    "hs_acc = train_with_diff_split(df_hs)\n",
    "hs_acc"
   ]
  },
  {
   "cell_type": "markdown",
   "metadata": {},
   "source": [
    "### Compare"
   ]
  },
  {
   "cell_type": "code",
   "execution_count": null,
   "metadata": {
    "collapsed": false
   },
   "outputs": [],
   "source": [
    "compare_acc_with_baseline(hs_acc)"
   ]
  },
  {
   "cell_type": "markdown",
   "metadata": {},
   "source": [
    "---\n",
    "\n",
    "## Vectorize Category\n",
    "\n",
    "- race, race_o\n",
    "- go_out\n",
    "- goal\n",
    "- career_c"
   ]
  },
  {
   "cell_type": "markdown",
   "metadata": {},
   "source": [
    "### Data Processing"
   ]
  },
  {
   "cell_type": "code",
   "execution_count": null,
   "metadata": {
    "collapsed": true
   },
   "outputs": [],
   "source": [
    "df_vc = deepcopy(baseline_df)"
   ]
  },
  {
   "cell_type": "code",
   "execution_count": null,
   "metadata": {
    "collapsed": true
   },
   "outputs": [],
   "source": [
    "def vectorize_column(df, col):\n",
    "    v_df = pd.get_dummies(df[col], prefix=col)\n",
    "    return df.drop(col, axis=1).join(v_df)"
   ]
  },
  {
   "cell_type": "code",
   "execution_count": null,
   "metadata": {
    "collapsed": true
   },
   "outputs": [],
   "source": [
    "category_cols = ['career_c', 'race', 'race_o', 'go_out', 'goal']\n",
    "\n",
    "for col in category_cols:\n",
    "    df_vc = vectorize_column(df_vc, col)"
   ]
  },
  {
   "cell_type": "markdown",
   "metadata": {},
   "source": [
    "### Training"
   ]
  },
  {
   "cell_type": "code",
   "execution_count": null,
   "metadata": {
    "collapsed": false
   },
   "outputs": [],
   "source": [
    "vc_acc = train_with_diff_split(df_vc)\n",
    "vc_acc"
   ]
  },
  {
   "cell_type": "markdown",
   "metadata": {},
   "source": [
    "### Compare"
   ]
  },
  {
   "cell_type": "code",
   "execution_count": null,
   "metadata": {
    "collapsed": false,
    "scrolled": true
   },
   "outputs": [],
   "source": [
    "compare_acc_with_baseline(vc_acc)"
   ]
  }
 ],
 "metadata": {
  "anaconda-cloud": {},
  "kernelspec": {
   "display_name": "Python [default]",
   "language": "python",
   "name": "python3"
  },
  "language_info": {
   "codemirror_mode": {
    "name": "ipython",
    "version": 3
   },
   "file_extension": ".py",
   "mimetype": "text/x-python",
   "name": "python",
   "nbconvert_exporter": "python",
   "pygments_lexer": "ipython3",
   "version": "3.5.2"
  }
 },
 "nbformat": 4,
 "nbformat_minor": 1
}
