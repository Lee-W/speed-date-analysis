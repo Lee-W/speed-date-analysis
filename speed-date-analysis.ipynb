{
 "cells": [
  {
   "cell_type": "markdown",
   "metadata": {},
   "source": [
    "# Speed Dating Experiment\n",
    "\n",
    "In this project, we use KNN and Decision Tree to predict whether one person is going to date the other again or not.\n",
    "  \n",
    "Besides using these algorithms from scikit-learn, we also implement our own versions to compare efficient.  \n",
    "  \n",
    "The data are from kaggle [Speed Dating Experiement](https://www.kaggle.com/annavictoria/speed-dating-experiment).\n",
    "\n",
    "\n",
    "# Table of Content\n",
    "- [Setup](#setup)\n",
    "- [Initial Data Processing](#initial)\n",
    "- [Algorithm Implementation](#algorithm)\n",
    "    - [KNN](#knn)\n",
    "        - [Self Implement](#selfknn)\n",
    "        - [Scikit Learn](#skknn)\n",
    "    - [Decision Tree](#dt)\n",
    "        - [Self Implement](#selfdt)\n",
    "        - [Scikit Leran](#skdt)\n",
    "- [Choosing Predcit Target](#target)\n",
    "- [Visualize Methods](#visualizemetod)\n",
    "- [Training Methods](#trainmethod)\n",
    "- [Feature Selection](#feature-selction)\n",
    "\n",
    "# Contributors\n",
    "- [Hao-Tzu Huang](https://github.com/nacat)\n",
    "- [Wei Lee](https://github.com/Lee-W)"
   ]
  },
  {
   "cell_type": "markdown",
   "metadata": {},
   "source": [
    "---\n",
    "\n",
    "# <a name='setup'></a> Setup"
   ]
  },
  {
   "cell_type": "code",
   "execution_count": 1,
   "metadata": {
    "collapsed": false
   },
   "outputs": [
    {
     "data": {
      "text/html": [
       "\n",
       "    <div class=\"bk-root\">\n",
       "        <a href=\"http://bokeh.pydata.org\" target=\"_blank\" class=\"bk-logo bk-logo-small bk-logo-notebook\"></a>\n",
       "        <span id=\"6769fdd3-aa60-4bf7-882c-de30b648e630\">Loading BokehJS ...</span>\n",
       "    </div>"
      ]
     },
     "metadata": {},
     "output_type": "display_data"
    },
    {
     "data": {
      "application/javascript": [
       "\n",
       "(function(global) {\n",
       "  function now() {\n",
       "    return new Date();\n",
       "  }\n",
       "\n",
       "  var force = \"1\";\n",
       "\n",
       "  if (typeof (window._bokeh_onload_callbacks) === \"undefined\" || force !== \"\") {\n",
       "    window._bokeh_onload_callbacks = [];\n",
       "    window._bokeh_is_loading = undefined;\n",
       "  }\n",
       "\n",
       "\n",
       "  \n",
       "  if (typeof (window._bokeh_timeout) === \"undefined\" || force !== \"\") {\n",
       "    window._bokeh_timeout = Date.now() + 5000;\n",
       "    window._bokeh_failed_load = false;\n",
       "  }\n",
       "\n",
       "  var NB_LOAD_WARNING = {'data': {'text/html':\n",
       "     \"<div style='background-color: #fdd'>\\n\"+\n",
       "     \"<p>\\n\"+\n",
       "     \"BokehJS does not appear to have successfully loaded. If loading BokehJS from CDN, this \\n\"+\n",
       "     \"may be due to a slow or bad network connection. Possible fixes:\\n\"+\n",
       "     \"</p>\\n\"+\n",
       "     \"<ul>\\n\"+\n",
       "     \"<li>re-rerun `output_notebook()` to attempt to load from CDN again, or</li>\\n\"+\n",
       "     \"<li>use INLINE resources instead, as so:</li>\\n\"+\n",
       "     \"</ul>\\n\"+\n",
       "     \"<code>\\n\"+\n",
       "     \"from bokeh.resources import INLINE\\n\"+\n",
       "     \"output_notebook(resources=INLINE)\\n\"+\n",
       "     \"</code>\\n\"+\n",
       "     \"</div>\"}};\n",
       "\n",
       "  function display_loaded() {\n",
       "    if (window.Bokeh !== undefined) {\n",
       "      Bokeh.$(\"#6769fdd3-aa60-4bf7-882c-de30b648e630\").text(\"BokehJS successfully loaded.\");\n",
       "    } else if (Date.now() < window._bokeh_timeout) {\n",
       "      setTimeout(display_loaded, 100)\n",
       "    }\n",
       "  }\n",
       "\n",
       "  function run_callbacks() {\n",
       "    window._bokeh_onload_callbacks.forEach(function(callback) { callback() });\n",
       "    delete window._bokeh_onload_callbacks\n",
       "    console.info(\"Bokeh: all callbacks have finished\");\n",
       "  }\n",
       "\n",
       "  function load_libs(js_urls, callback) {\n",
       "    window._bokeh_onload_callbacks.push(callback);\n",
       "    if (window._bokeh_is_loading > 0) {\n",
       "      console.log(\"Bokeh: BokehJS is being loaded, scheduling callback at\", now());\n",
       "      return null;\n",
       "    }\n",
       "    if (js_urls == null || js_urls.length === 0) {\n",
       "      run_callbacks();\n",
       "      return null;\n",
       "    }\n",
       "    console.log(\"Bokeh: BokehJS not loaded, scheduling load and callback at\", now());\n",
       "    window._bokeh_is_loading = js_urls.length;\n",
       "    for (var i = 0; i < js_urls.length; i++) {\n",
       "      var url = js_urls[i];\n",
       "      var s = document.createElement('script');\n",
       "      s.src = url;\n",
       "      s.async = false;\n",
       "      s.onreadystatechange = s.onload = function() {\n",
       "        window._bokeh_is_loading--;\n",
       "        if (window._bokeh_is_loading === 0) {\n",
       "          console.log(\"Bokeh: all BokehJS libraries loaded\");\n",
       "          run_callbacks()\n",
       "        }\n",
       "      };\n",
       "      s.onerror = function() {\n",
       "        console.warn(\"failed to load library \" + url);\n",
       "      };\n",
       "      console.log(\"Bokeh: injecting script tag for BokehJS library: \", url);\n",
       "      document.getElementsByTagName(\"head\")[0].appendChild(s);\n",
       "    }\n",
       "  };var element = document.getElementById(\"6769fdd3-aa60-4bf7-882c-de30b648e630\");\n",
       "  if (element == null) {\n",
       "    console.log(\"Bokeh: ERROR: autoload.js configured with elementid '6769fdd3-aa60-4bf7-882c-de30b648e630' but no matching script tag was found. \")\n",
       "    return false;\n",
       "  }\n",
       "\n",
       "  var js_urls = ['https://cdn.pydata.org/bokeh/release/bokeh-0.12.3.min.js', 'https://cdn.pydata.org/bokeh/release/bokeh-widgets-0.12.3.min.js'];\n",
       "\n",
       "  var inline_js = [\n",
       "    function(Bokeh) {\n",
       "      Bokeh.set_log_level(\"info\");\n",
       "    },\n",
       "    \n",
       "    function(Bokeh) {\n",
       "      \n",
       "      Bokeh.$(\"#6769fdd3-aa60-4bf7-882c-de30b648e630\").text(\"BokehJS is loading...\");\n",
       "    },\n",
       "    function(Bokeh) {\n",
       "      console.log(\"Bokeh: injecting CSS: https://cdn.pydata.org/bokeh/release/bokeh-0.12.3.min.css\");\n",
       "      Bokeh.embed.inject_css(\"https://cdn.pydata.org/bokeh/release/bokeh-0.12.3.min.css\");\n",
       "      console.log(\"Bokeh: injecting CSS: https://cdn.pydata.org/bokeh/release/bokeh-widgets-0.12.3.min.css\");\n",
       "      Bokeh.embed.inject_css(\"https://cdn.pydata.org/bokeh/release/bokeh-widgets-0.12.3.min.css\");\n",
       "    }\n",
       "  ];\n",
       "\n",
       "  function run_inline_js() {\n",
       "    \n",
       "    if ((window.Bokeh !== undefined) || (force === \"1\")) {\n",
       "      for (var i = 0; i < inline_js.length; i++) {\n",
       "        inline_js[i](window.Bokeh);\n",
       "      }if (force === \"1\") {\n",
       "        display_loaded();\n",
       "      }} else if (Date.now() < window._bokeh_timeout) {\n",
       "      setTimeout(run_inline_js, 100);\n",
       "    } else if (!window._bokeh_failed_load) {\n",
       "      console.log(\"Bokeh: BokehJS failed to load within specified timeout.\");\n",
       "      window._bokeh_failed_load = true;\n",
       "    } else if (!force) {\n",
       "      var cell = $(\"#6769fdd3-aa60-4bf7-882c-de30b648e630\").parents('.cell').data().cell;\n",
       "      cell.output_area.append_execute_result(NB_LOAD_WARNING)\n",
       "    }\n",
       "\n",
       "  }\n",
       "\n",
       "  if (window._bokeh_is_loading === 0) {\n",
       "    console.log(\"Bokeh: BokehJS loaded, going straight to plotting\");\n",
       "    run_inline_js();\n",
       "  } else {\n",
       "    load_libs(js_urls, function() {\n",
       "      console.log(\"Bokeh: BokehJS plotting callback run at\", now());\n",
       "      run_inline_js();\n",
       "    });\n",
       "  }\n",
       "}(this));"
      ]
     },
     "metadata": {},
     "output_type": "display_data"
    }
   ],
   "source": [
    "import math\n",
    "import json\n",
    "import random\n",
    "from copy import deepcopy\n",
    "from collections import Counter\n",
    "from functools import partial\n",
    "from io import StringIO\n",
    "from operator import itemgetter, attrgetter\n",
    "\n",
    "import numpy as np\n",
    "import matplotlib.pyplot as plt\n",
    "import pandas as pd\n",
    "\n",
    "from sklearn import tree\n",
    "from sklearn.neighbors import KNeighborsClassifier\n",
    "from sklearn.cross_validation import train_test_split\n",
    "from sklearn.metrics import accuracy_score\n",
    "\n",
    "import pydot_ng as pydot\n",
    "from IPython.display import Image, display\n",
    "from tabulate import tabulate\n",
    "\n",
    "from bokeh.io import show, output_notebook\n",
    "from bokeh.plotting import figure\n",
    "\n",
    "output_notebook()"
   ]
  },
  {
   "cell_type": "markdown",
   "metadata": {},
   "source": [
    "# <a name='initial'></a>Initial Data Processing"
   ]
  },
  {
   "cell_type": "markdown",
   "metadata": {},
   "source": [
    "## Load Data"
   ]
  },
  {
   "cell_type": "code",
   "execution_count": 2,
   "metadata": {
    "collapsed": false
   },
   "outputs": [],
   "source": [
    "df = pd.read_csv('speed-dating-experiment/Speed Dating Data.csv', encoding=\"ISO-8859-1\")"
   ]
  },
  {
   "cell_type": "code",
   "execution_count": 3,
   "metadata": {
    "collapsed": false
   },
   "outputs": [
    {
     "name": "stdout",
     "output_type": "stream",
     "text": [
      "<class 'pandas.core.frame.DataFrame'>\n",
      "RangeIndex: 8378 entries, 0 to 8377\n",
      "Columns: 195 entries, iid to amb5_3\n",
      "dtypes: float64(174), int64(13), object(8)\n",
      "memory usage: 12.5+ MB\n"
     ]
    }
   ],
   "source": [
    "df.info()"
   ]
  },
  {
   "cell_type": "markdown",
   "metadata": {},
   "source": [
    "- Number of rows (participants): 8378\n",
    "- Number of columns (features): 195"
   ]
  },
  {
   "cell_type": "code",
   "execution_count": 4,
   "metadata": {
    "collapsed": false
   },
   "outputs": [
    {
     "data": {
      "text/plain": [
       "Index(['field', 'undergra', 'mn_sat', 'tuition', 'from', 'zipcode', 'income',\n",
       "       'career'],\n",
       "      dtype='object')"
      ]
     },
     "execution_count": 4,
     "metadata": {},
     "output_type": "execute_result"
    }
   ],
   "source": [
    "# Unparseable columns\n",
    "\n",
    "unparseable_cols = df.select_dtypes(include=['object']).columns\n",
    "unparseable_cols"
   ]
  },
  {
   "cell_type": "markdown",
   "metadata": {},
   "source": [
    "## Data Cleaning"
   ]
  },
  {
   "cell_type": "markdown",
   "metadata": {},
   "source": [
    "The unparseable columns are handled as following\n",
    "\n",
    "### `income, zipcode, tuition, mn_sat`\n",
    "These columns contain commas and can be parsed to numbers after cleaning"
   ]
  },
  {
   "cell_type": "code",
   "execution_count": 5,
   "metadata": {
    "collapsed": false
   },
   "outputs": [],
   "source": [
    "# Clean Comma\n",
    "COLUMNS_WITH_COMMA = ['income', 'zipcode', 'tuition', 'mn_sat']\n",
    "\n",
    "for col in COLUMNS_WITH_COMMA:\n",
    "    df[col] = df[col].replace(',', '', regex=True)"
   ]
  },
  {
   "cell_type": "markdown",
   "metadata": {},
   "source": [
    "### `career, field`\n",
    "They have already been encoded in other columns (i.e. career_c, field_cd)  \n",
    "Thus, we simple drop them."
   ]
  },
  {
   "cell_type": "code",
   "execution_count": 6,
   "metadata": {
    "collapsed": true
   },
   "outputs": [],
   "source": [
    "ENCODED_STRING_COLUMNS = ['career', 'field']\n",
    "df.drop(ENCODED_STRING_COLUMNS, axis=1, inplace=True)"
   ]
  },
  {
   "cell_type": "markdown",
   "metadata": {},
   "source": [
    "## `undergra, from`\n",
    "These two columns are pure strings.  \n",
    "There are too many different content in these columns.  \n",
    "Encoding them like `career` and `field` is unreasonable.  \n",
    "  \n",
    "Thus, we use `same_from` and `same_undergra` instead.  \n",
    "The two values indicate that if the values of `undergra` and `from` are the same between the participant and his or her partner.  \n",
    "If so, the value would be 1.  \n",
    "Otherwise, it would be 0.\n",
    "\n",
    "Then, `undergra` and `from` are dropped."
   ]
  },
  {
   "cell_type": "code",
   "execution_count": 7,
   "metadata": {
    "collapsed": false
   },
   "outputs": [],
   "source": [
    "# Joined df based on partner\n",
    "joined_df = df.merge(\n",
    "    df,\n",
    "    how='left',\n",
    "    left_on=['iid', 'id', 'pid', 'partner'],\n",
    "    right_on=['pid', 'partner', 'iid', 'id']\n",
    ")"
   ]
  },
  {
   "cell_type": "code",
   "execution_count": 8,
   "metadata": {
    "collapsed": false
   },
   "outputs": [],
   "source": [
    "OTHER_STRING_COLUMNS = ['undergra', 'from']\n",
    "\n",
    "df['same_from'] = joined_df['from_x'] == joined_df['from_y']\n",
    "df['same_undergra'] = joined_df['undergra_x'] == joined_df['undergra_y']\n",
    "df.drop(OTHER_STRING_COLUMNS, axis=1, inplace=True)"
   ]
  },
  {
   "cell_type": "markdown",
   "metadata": {},
   "source": [
    "---"
   ]
  },
  {
   "cell_type": "markdown",
   "metadata": {},
   "source": [
    "# <a name='algorithm'></a> Algorithm Implementation\n",
    "\n",
    "## <a name='knn'></a> KNN"
   ]
  },
  {
   "cell_type": "markdown",
   "metadata": {},
   "source": [
    "### <a name='selfknn'></a> Self Implement"
   ]
  },
  {
   "cell_type": "code",
   "execution_count": 9,
   "metadata": {
    "collapsed": false
   },
   "outputs": [],
   "source": [
    "def eucldn_similarity(v1, v2):\n",
    "    \"\"\"\n",
    "    Euclidean Distance。越相似，距離越近，相似度數值會越小。\n",
    "    :param v1:\n",
    "    :param v2:\n",
    "    :return: 1/distance(v1,v2) 取距離的倒數，越大越像\n",
    "    \"\"\"\n",
    "    sum_xx, sum_xy, sum_yy = 0.0, 0.0, 0.0\n",
    "    for item1, item2 in zip(v1, v2):\n",
    "        sum_xx += math.pow(item1, 2)\n",
    "        sum_xy += item1*item2\n",
    "        sum_yy += math.pow(item2, 2)\n",
    "    return 1 / math.sqrt(sum_xx + sum_yy - 2*sum_xy)"
   ]
  },
  {
   "cell_type": "code",
   "execution_count": 10,
   "metadata": {
    "collapsed": false
   },
   "outputs": [],
   "source": [
    "def cos_similarity(v1, v2):\n",
    "    \"\"\"\n",
    "    Cosine（兩向量的餘弦）。越相似，夾角越小，相似度數值會越高。\n",
    "    :param v1:\n",
    "    :param v2:\n",
    "    :return: cos(v1,v2)介於1到-1之間 越大越像\n",
    "    \"\"\"\n",
    "    sum_xx, sum_xy, sum_yy = 0.0, 0.0, 0.0\n",
    "    for item1, item2 in zip(v1, v2):\n",
    "        sum_xx += math.pow(item1, 2)\n",
    "        sum_xy += item1*item2\n",
    "        sum_yy += math.pow(item2, 2)\n",
    "    return sum_xy / math.sqrt(sum_xx*sum_yy)"
   ]
  },
  {
   "cell_type": "code",
   "execution_count": 11,
   "metadata": {
    "collapsed": false
   },
   "outputs": [],
   "source": [
    "def knn_prediction(nb_list):\n",
    "    cnt = Counter(target for (sim, target) in nb_list)\n",
    "    label = cnt.most_common(1)[0][0]\n",
    "    return label"
   ]
  },
  {
   "cell_type": "code",
   "execution_count": 12,
   "metadata": {
    "collapsed": false
   },
   "outputs": [],
   "source": [
    "def knn_classify(test_X, train_X, train_y, k=5):\n",
    "    nb = []\n",
    "    for feature, label in zip(train_X, train_y):\n",
    "        nb.append((cos_similarity(test_X,feature),tuple(label)))\n",
    "    nb.sort(reverse=True)\n",
    "    label = knn_prediction(nb[:k])\n",
    "    return label"
   ]
  },
  {
   "cell_type": "code",
   "execution_count": 13,
   "metadata": {
    "collapsed": false
   },
   "outputs": [],
   "source": [
    "def knn(train_X, test_X, train_y, test_y, n_neighbors=5):\n",
    "    count = 0\n",
    "    for feature, label in zip(test_X, test_y):\n",
    "        pred_y = knn_classify(feature, train_X, train_y, n_neighbors)\n",
    "        if pred_y == tuple(label):\n",
    "            count += 1\n",
    "    accuracy = count / len(test_X)\n",
    "    return accuracy"
   ]
  },
  {
   "cell_type": "markdown",
   "metadata": {},
   "source": [
    "## <a name='skknn'></a> Scikit Learn"
   ]
  },
  {
   "cell_type": "code",
   "execution_count": 14,
   "metadata": {
    "collapsed": false
   },
   "outputs": [],
   "source": [
    "def knn_with_sklearn(train_X, test_X, train_y, test_y,\n",
    "                     **kwargs):\n",
    "    clf = KNeighborsClassifier(**kwargs)\n",
    "    clf.fit(train_X, train_y)\n",
    "    pred = clf.predict(test_X)\n",
    "    return accuracy_score(pred, test_y)"
   ]
  },
  {
   "cell_type": "markdown",
   "metadata": {},
   "source": [
    "# <a name='dt'></a> Decision Tree"
   ]
  },
  {
   "cell_type": "markdown",
   "metadata": {},
   "source": [
    "## <a name='selfdt'></a> Self Implement"
   ]
  },
  {
   "cell_type": "code",
   "execution_count": 15,
   "metadata": {
    "collapsed": true
   },
   "outputs": [],
   "source": [
    "def gini_index(lcnt, rcnt):\n",
    "    gini = 0.0\n",
    "    tcnt = lcnt + rcnt\n",
    "    tl = sum(lcnt.values())\n",
    "    tr = sum(rcnt.values())\n",
    "    tt = tl + tr\n",
    "    l = 0.0\n",
    "    r = 0.0\n",
    "    for class_label in set(tcnt):\n",
    "        if tl is not 0:\n",
    "            l += pow(lcnt[class_label]/tl,2)\n",
    "        if tr is not 0:    \n",
    "            r += pow(rcnt[class_label]/tr,2)\n",
    "    if tt is not 0:\n",
    "        gini = (tl/tt)*(1-l)+(tr/tt)*(1-r)\n",
    "    return gini"
   ]
  },
  {
   "cell_type": "code",
   "execution_count": 16,
   "metadata": {
    "collapsed": false
   },
   "outputs": [],
   "source": [
    "def try_split(train_X, train_y, index, value):\n",
    "    gini = 1.0\n",
    "    left_X, right_X = list(), list()\n",
    "    left_y, right_y = list(), list()\n",
    "    lcnt, rcnt, tcnt = Counter(), Counter(), Counter\n",
    "    for row_X, row_y in zip(train_X, train_y):\n",
    "        if row_X[index] < value:\n",
    "            left_X.append(row_X)\n",
    "            left_y.append(row_y)\n",
    "            lcnt[tuple(row_y)] += 1\n",
    "        else:\n",
    "            right_X.append(row_X)\n",
    "            right_y.append(row_y)\n",
    "            rcnt[tuple(row_y)] += 1\n",
    "    if not left_X:\n",
    "        l = 0\n",
    "    else:\n",
    "        l = lcnt.most_common(1)[0][0]\n",
    "    if not right_X:\n",
    "        r = 0\n",
    "    else:\n",
    "        r = rcnt.most_common(1)[0][0]\n",
    "    gini = gini_index(lcnt, rcnt)\n",
    "    return gini, left_X, right_X, left_y, right_y, l, r"
   ]
  },
  {
   "cell_type": "code",
   "execution_count": 17,
   "metadata": {
    "collapsed": false
   },
   "outputs": [],
   "source": [
    "def determine_split(train_X, train_y):\n",
    "    b_feature, b_value, b_gini, b_group = 999, 999, 999, None\n",
    "    for index in range(len(train_X[0])):\n",
    "        for tp in train_X:\n",
    "            gini, left_group, right_group, left_label, right_label, l, f= try_split(train_X, train_y, index, tp[index])\n",
    "            groups = left_group, right_group\n",
    "            labels = left_label, right_label\n",
    "            counter = l, f\n",
    "            if gini < b_gini:\n",
    "                b_index, b_value, b_gini, b_group, b_label, b_cnt= index, tp[index], gini, groups, labels, counter\n",
    "    return {'index':b_index, 'value':b_value, 'gini':b_gini, 'groups':b_group, 'labels':b_label, 'count':b_cnt}"
   ]
  },
  {
   "cell_type": "code",
   "execution_count": 18,
   "metadata": {
    "collapsed": false
   },
   "outputs": [],
   "source": [
    "def split(node, max_depth, min_size, depth):\n",
    "    left, right = node['groups']\n",
    "    l_label, r_label = node['labels']\n",
    "    l_cnt, r_cnt = node['count']\n",
    "    #del(node['groups'])\n",
    "    #del(node['labels'])\n",
    "\n",
    "    if not left or not right:\n",
    "        if isinstance(l_cnt, tuple):\n",
    "            node['left'] = node['right'] = l_cnt\n",
    "        elif isinstance(r_cnt, tuple):\n",
    "            node['left'] = node['right'] = r_cnt\n",
    "        else:\n",
    "            node['left'] = node['right'] = None\n",
    "        #node['left'] = node['right'] = countLabel(l_label+r_label)\n",
    "        return\n",
    "    if depth >= max_depth:\n",
    "        node['left'], node['right'] = l_cnt, r_cnt#countLabel(l_label), countLabel(r_label)\n",
    "        return\n",
    "    if len(left) <= min_size:\n",
    "        node['left'] = l_cnt#countLabel(l_label)\n",
    "    else:\n",
    "        node['left'] = determine_split(left, l_label)\n",
    "        split(node['left'], max_depth, min_size, depth+1)\n",
    "    if len(right) <= min_size:\n",
    "        node['right'] = r_cnt#countLabel(r_label)\n",
    "    else:\n",
    "        node['right'] = determine_split(right, r_label)\n",
    "        split(node['right'], max_depth, min_size, depth+1)"
   ]
  },
  {
   "cell_type": "code",
   "execution_count": 19,
   "metadata": {
    "collapsed": true
   },
   "outputs": [],
   "source": [
    "def build_tree(train_X, train_y, max_depth, min_size):\n",
    "    root = determine_split(train_X, train_y)\n",
    "    split(root, max_depth, min_size, 1)\n",
    "    return root"
   ]
  },
  {
   "cell_type": "code",
   "execution_count": 20,
   "metadata": {
    "collapsed": true
   },
   "outputs": [],
   "source": [
    "def print_tree(node, depth=0):\n",
    "    if isinstance(node, dict):\n",
    "        print('%s[X%d < %.3f]' % ((depth*' ', (node['index']+1), node['value'])))\n",
    "        print_tree(node['left'], depth+1)\n",
    "        print_tree(node['right'], depth+1)\n",
    "    else:\n",
    "        print('%s[%s]' % ((depth*' ', node)))"
   ]
  },
  {
   "cell_type": "code",
   "execution_count": 21,
   "metadata": {
    "collapsed": true
   },
   "outputs": [],
   "source": [
    "def dt_predict(tp, node):\n",
    "    if tp[node['index']] < node['value']:\n",
    "        if isinstance(node['left'], dict):\n",
    "            return dt_predict(tp, node['left'])\n",
    "        else:\n",
    "            return node['left']\n",
    "    else:\n",
    "        if isinstance(node['right'], dict):\n",
    "            return dt_predict(tp, node['right'])\n",
    "        else:\n",
    "            return node['right']"
   ]
  },
  {
   "cell_type": "code",
   "execution_count": 22,
   "metadata": {
    "collapsed": true
   },
   "outputs": [],
   "source": [
    "def dt_accuracy(test_X, test_y, tree):\n",
    "    accuracy = 0\n",
    "    count = 0\n",
    "    for tp, label in zip(test_X, test_y):\n",
    "        pred = dt_predict(tp, tree)\n",
    "        if pred == tuple(label):\n",
    "            count += 1\n",
    "    accuracy = count/len(test_y)\n",
    "    return accuracy"
   ]
  },
  {
   "cell_type": "code",
   "execution_count": 23,
   "metadata": {
    "collapsed": false
   },
   "outputs": [],
   "source": [
    "def dt(train_X, test_X, train_y, test_y, max_depth=5, min_samples_leaf=5):\n",
    "    accuracy = 0\n",
    "    tree = build_tree(train_X, train_y, max_depth, min_samples_leaf)\n",
    "    print_tree(tree)\n",
    "    accuracy = dt_accuracy(test_X, test_y, tree)\n",
    "    return accuracy"
   ]
  },
  {
   "cell_type": "markdown",
   "metadata": {},
   "source": [
    "## <a name='skdt'></a> Scikit Learn"
   ]
  },
  {
   "cell_type": "code",
   "execution_count": 24,
   "metadata": {
    "collapsed": true
   },
   "outputs": [],
   "source": [
    "def dt_with_sklearn(train_X, test_X, train_y, test_y,\n",
    "                    feature_names=None, visualize=False, **kwargs):\n",
    "    if 'random_state' not in kwargs:\n",
    "        kwargs['random_state'] = 0\n",
    "        \n",
    "    clf = tree.DecisionTreeClassifier(**kwargs)\n",
    "    clf.fit(train_X, train_y)\n",
    "    pred = clf.predict(test_X)\n",
    "    if visualize:\n",
    "        visualize_dt(clf, feature_names)\n",
    "    return accuracy_score(pred, test_y)"
   ]
  },
  {
   "cell_type": "code",
   "execution_count": 25,
   "metadata": {
    "collapsed": false,
    "scrolled": false
   },
   "outputs": [],
   "source": [
    "# Visualize Decision Tree\n",
    "\n",
    "def visualize_dt(clf, feature_names=None):\n",
    "    dot_data = StringIO()\n",
    "    tree.export_graphviz(clf, out_file=dot_data,\n",
    "                         class_names=True, feature_names=feature_names)\n",
    "    graph = pydot.graph_from_dot_data(dot_data.getvalue())  \n",
    "    display(Image(graph.create_png()))"
   ]
  },
  {
   "cell_type": "markdown",
   "metadata": {},
   "source": [
    "---\n",
    "\n",
    "# <a name='target'></a> Choosing Predict Target\n",
    "\n",
    "Initial we choose the column `match` as the predict target.  "
   ]
  },
  {
   "cell_type": "code",
   "execution_count": 26,
   "metadata": {
    "collapsed": false
   },
   "outputs": [
    {
     "data": {
      "image/png": "[encoded data removed]",
      "text/plain": [
       "<IPython.core.display.Image object>"
      ]
     },
     "metadata": {},
     "output_type": "display_data"
    },
    {
     "data": {
      "text/plain": [
       "1.0"
      ]
     },
     "execution_count": 26,
     "metadata": {},
     "output_type": "execute_result"
    }
   ],
   "source": [
    "copy_df = deepcopy(df)\n",
    "copy_df.fillna(0, inplace=True)\n",
    "\n",
    "copy_df_X = copy_df.drop('match', axis=1)\n",
    "copy_df_y = copy_df['match']\n",
    "\n",
    "X, y = np.array(copy_df_X), np.array(copy_df_y)\n",
    "dt_with_sklearn(*train_test_split(X, y),\n",
    "                visualize=True, feature_names=copy_df_X.columns)"
   ]
  },
  {
   "cell_type": "markdown",
   "metadata": {},
   "source": [
    "However, the accuracy of using Decision Tree with all the features to predict `match` is 100% which is unreasonablly high.  \n",
    "After visualizing it, we found that `match` can be directly decided by `dec` and `dec_o` as the following rule.\n",
    "\n",
    "|dec|dec_o|match|\n",
    "|---|---|---|\n",
    "|1|1|1|\n",
    "|1|0|0|\n",
    "|0|1|0|\n",
    "|0|0|0|\n",
    "\n",
    "In other word, only when both `dec` and `dec_o` are true, will `match` be true.  \n",
    "\n",
    "Thus, `dec` and `dec_o` would be redundant when `match` is used as predict target."
   ]
  },
  {
   "cell_type": "markdown",
   "metadata": {},
   "source": [
    "However, we found that even using only one column to predict `match` could achieve an accuracy rate at around 82%."
   ]
  },
  {
   "cell_type": "code",
   "execution_count": 27,
   "metadata": {
    "collapsed": false
   },
   "outputs": [
    {
     "data": {
      "text/plain": [
       "0    6998\n",
       "1    1380\n",
       "Name: match, dtype: int64"
      ]
     },
     "execution_count": 27,
     "metadata": {},
     "output_type": "execute_result"
    }
   ],
   "source": [
    "copy_df['match'].value_counts()"
   ]
  },
  {
   "cell_type": "markdown",
   "metadata": {},
   "source": [
    "Accroding to the ratio above, if our model always guesses 0, we can get accuracy at 83.528%.  \n",
    "\n",
    "We concluded that KNN and Decision Tree might not do well on skew data.  "
   ]
  },
  {
   "cell_type": "code",
   "execution_count": 28,
   "metadata": {
    "collapsed": false
   },
   "outputs": [
    {
     "data": {
      "text/plain": [
       "0    4860\n",
       "1    3518\n",
       "Name: dec, dtype: int64"
      ]
     },
     "execution_count": 28,
     "metadata": {},
     "output_type": "execute_result"
    }
   ],
   "source": [
    "copy_df['dec'].value_counts()"
   ]
  },
  {
   "cell_type": "code",
   "execution_count": 29,
   "metadata": {
    "collapsed": false
   },
   "outputs": [
    {
     "data": {
      "text/plain": [
       "0    4863\n",
       "1    3515\n",
       "Name: dec_o, dtype: int64"
      ]
     },
     "execution_count": 29,
     "metadata": {},
     "output_type": "execute_result"
    }
   ],
   "source": [
    "copy_df['dec_o'].value_counts()"
   ]
  },
  {
   "cell_type": "markdown",
   "metadata": {},
   "source": [
    "On the other hand, using `dec` and `dec_o` would not encounter such problem.  \n",
    "  \n",
    "Since the data are mostly about the partipant, **we decided to use `dec` as predict target.**  \n",
    "  \n",
    "Although using `match` as a feature can get an accuracy around 86% without any tuning, we think using `match` to predict `dec` is meaningless.  \n",
    "Thus, we drop `match`."
   ]
  },
  {
   "cell_type": "code",
   "execution_count": 30,
   "metadata": {
    "collapsed": true
   },
   "outputs": [],
   "source": [
    "df.drop('match', axis=1, inplace=True)"
   ]
  },
  {
   "cell_type": "markdown",
   "metadata": {},
   "source": [
    "---\n",
    "# <a name='visualizemethod'></a> Visualize Methods"
   ]
  },
  {
   "cell_type": "code",
   "execution_count": 31,
   "metadata": {
    "collapsed": true
   },
   "outputs": [],
   "source": [
    "def visualize_feature_distribute(df, col, default_na=0):\n",
    "    visual_df = df.fillna(default_na)\n",
    "    f, (ax1, ax2, ax3) = plt.subplots(1, 3, sharey=True)\n",
    "    f.suptitle('{col_name} distribution'.format(col_name=col))\n",
    "    ax1.hist(visual_df[col], color='blue')\n",
    "    ax1.set_xlabel('all')\n",
    "    ax2.hist(visual_df[visual_df.dec == 1][col], color='red')\n",
    "    ax2.set_xlabel('dec = 1')\n",
    "    ax3.hist(visual_df[visual_df.dec == 0][col], color='green')\n",
    "    ax3.set_xlabel('dec = 0')\n",
    "    plt.show(f)"
   ]
  },
  {
   "cell_type": "markdown",
   "metadata": {},
   "source": [
    "\n",
    "---\n",
    "\n",
    "# <a name='trainmethod'></a> Training Methods"
   ]
  },
  {
   "cell_type": "markdown",
   "metadata": {},
   "source": [
    "### Split Data"
   ]
  },
  {
   "cell_type": "markdown",
   "metadata": {},
   "source": [
    "We use 20% of the data as testing data and set random_state to a fix number so that the split data will always be the same."
   ]
  },
  {
   "cell_type": "code",
   "execution_count": 32,
   "metadata": {
    "collapsed": false
   },
   "outputs": [],
   "source": [
    "def split_df(df, predict_targt='dec',\n",
    "             default_na=0, test_size=0.2, random_state=0):    \n",
    "    df = df.fillna(default_na)\n",
    "    \n",
    "    df_X = df.drop(predict_targt, axis=1)\n",
    "    df_y = df[predict_targt]\n",
    "    \n",
    "    X, y = np.array(df_X), np.array(df_y)\n",
    "    return train_test_split(X, y,\n",
    "                            test_size=test_size, random_state=random_state)    "
   ]
  },
  {
   "cell_type": "markdown",
   "metadata": {},
   "source": [
    "### Training with All Methods"
   ]
  },
  {
   "cell_type": "code",
   "execution_count": 33,
   "metadata": {
    "collapsed": true
   },
   "outputs": [],
   "source": [
    "def train_with_all_methods(df, verbose=True, **conf):\n",
    "    split_args = conf.get('split_args', dict())\n",
    "    knn_args = conf.get('knn_args', dict())\n",
    "    dt_args = conf.get('dt_args', dict())\n",
    "    \n",
    "    data = split_df(df, **split_args)\n",
    "    sklearn_knn_acc = knn_with_sklearn(*data, **knn_args)\n",
    "    sklearn_dt_acc = dt_with_sklearn(*data, **dt_args)\n",
    "#     self_knn_acc = knn(*data, *knn_args)\n",
    "#     self_dt_acc = dt(*data, *dt_args)\n",
    "    \n",
    "    if verbose:\n",
    "        print('Sklearn KNN Accurary: ', sklearn_knn_acc)\n",
    "        print('Sklearn DT Accurary: ', sklearn_dt_acc)\n",
    "#         print('Our KNN Accurary: ', self_knn_acc)\n",
    "#         print('Our DT Accurary: ', self_dt_acc)\n",
    "    return np.array([sklearn_knn_acc, sklearn_dt_acc])"
   ]
  },
  {
   "cell_type": "markdown",
   "metadata": {},
   "source": [
    "### Training with Different Split\n",
    "\n",
    "In case that models might overfits the training data, we split the data with more than one random_state to get the average accuracy."
   ]
  },
  {
   "cell_type": "code",
   "execution_count": 34,
   "metadata": {
    "collapsed": true
   },
   "outputs": [],
   "source": [
    "def train_with_diff_split(df, conf=None, sample_num=3, verbose=True, \n",
    "                          random_states=None, rand_min=0, rand_max=100):\n",
    "    if not random_states:\n",
    "        random.seed(0)\n",
    "        random_states = [random.randint(rand_min, rand_max)\n",
    "                         for _ in range(sample_num)]\n",
    "        \n",
    "    if not conf:\n",
    "        conf = dict()\n",
    "    conf.setdefault('split_args', {'random_state': 0})\n",
    "    \n",
    "    all_accs = list()\n",
    "    for i, s in enumerate(random_states, 1):\n",
    "        if verbose:\n",
    "            print('\\n-----iter {}, random_state {}---'.format(i, s))\n",
    "        conf['split_args']['random_state'] = s\n",
    "        all_accs.append(train_with_all_methods(df, conf=conf))\n",
    "    return np.average(all_accs, axis=0)"
   ]
  },
  {
   "cell_type": "markdown",
   "metadata": {},
   "source": [
    "### Compare Accuracy"
   ]
  },
  {
   "cell_type": "code",
   "execution_count": 35,
   "metadata": {
    "collapsed": true
   },
   "outputs": [],
   "source": [
    "def compare_acc(acc1, acc2):\n",
    "    return acc1 - acc2"
   ]
  },
  {
   "cell_type": "markdown",
   "metadata": {},
   "source": [
    "---"
   ]
  },
  {
   "cell_type": "markdown",
   "metadata": {},
   "source": [
    "# <a name='feature-selction'></a> Feature Selection\n",
    "\n",
    "- [Baseline](#baseline)\n",
    "- Drop Columns or Rows with Too Many Null\n",
    "- Hobby Similarity\n",
    "- Vectorize Category\n",
    "- Group Columns\n",
    "\n",
    "\n",
    "### Preprocessing\n",
    "We group related columns as groups of features.  \n",
    "They are defined in \"feature_group.json\""
   ]
  },
  {
   "cell_type": "code",
   "execution_count": 36,
   "metadata": {
    "collapsed": true
   },
   "outputs": [],
   "source": [
    "with open('feature_group.json', 'r') as input_file:\n",
    "    feature_groups = json.load(input_file)"
   ]
  },
  {
   "cell_type": "markdown",
   "metadata": {},
   "source": [
    "---\n",
    "## <a name='baseline'></a> Baseline\n",
    "\n",
    "We use all the columns to predict `dec`.  \n",
    "This is regarded as our baseline result."
   ]
  },
  {
   "cell_type": "code",
   "execution_count": 37,
   "metadata": {
    "collapsed": true
   },
   "outputs": [],
   "source": [
    "baseline_df = deepcopy(df)"
   ]
  },
  {
   "cell_type": "markdown",
   "metadata": {},
   "source": [
    "### Training"
   ]
  },
  {
   "cell_type": "code",
   "execution_count": 38,
   "metadata": {
    "collapsed": false
   },
   "outputs": [
    {
     "name": "stdout",
     "output_type": "stream",
     "text": [
      "\n",
      "-----iter 1, random_state 49---\n",
      "Sklearn KNN Accurary:  0.687350835322\n",
      "Sklearn DT Accurary:  0.775059665871\n",
      "\n",
      "-----iter 2, random_state 97---\n",
      "Sklearn KNN Accurary:  0.687350835322\n",
      "Sklearn DT Accurary:  0.775059665871\n",
      "\n",
      "-----iter 3, random_state 53---\n",
      "Sklearn KNN Accurary:  0.687350835322\n",
      "Sklearn DT Accurary:  0.775059665871\n"
     ]
    },
    {
     "data": {
      "text/plain": [
       "array([ 0.68735084,  0.77505967])"
      ]
     },
     "execution_count": 38,
     "metadata": {},
     "output_type": "execute_result"
    }
   ],
   "source": [
    "baseline_acc = train_with_diff_split(baseline_df)\n",
    "baseline_acc"
   ]
  },
  {
   "cell_type": "markdown",
   "metadata": {},
   "source": [
    "### Method to Compare Accuarcy with Baseline"
   ]
  },
  {
   "cell_type": "code",
   "execution_count": 39,
   "metadata": {
    "collapsed": true
   },
   "outputs": [],
   "source": [
    "compare_acc_with_baseline = partial(compare_acc, acc2=baseline_acc)"
   ]
  },
  {
   "cell_type": "markdown",
   "metadata": {},
   "source": [
    "---"
   ]
  },
  {
   "cell_type": "markdown",
   "metadata": {},
   "source": [
    "## Drop Columns or Rows with Too Many Null\n",
    "Since there are too many empty values in this data, we'd like to find out whether dropping some columns or rows with lots of null values can enhance accuracy."
   ]
  },
  {
   "cell_type": "code",
   "execution_count": 40,
   "metadata": {
    "collapsed": true
   },
   "outputs": [],
   "source": [
    "df_drop_nan = deepcopy(df)"
   ]
  },
  {
   "cell_type": "markdown",
   "metadata": {},
   "source": [
    "### Analysis"
   ]
  },
  {
   "cell_type": "code",
   "execution_count": 41,
   "metadata": {
    "collapsed": false
   },
   "outputs": [
    {
     "data": {
      "text/plain": [
       "num_in_3    7710\n",
       "numdat_3    6882\n",
       "expnum      6578\n",
       "sinc7_2     6423\n",
       "amb7_2      6423\n",
       "shar7_2     6404\n",
       "attr7_2     6394\n",
       "fun7_2      6394\n",
       "intel7_2    6394\n",
       "attr5_3     6362\n",
       "dtype: int64"
      ]
     },
     "execution_count": 41,
     "metadata": {},
     "output_type": "execute_result"
    }
   ],
   "source": [
    "# Number of null value of each columns\n",
    "\n",
    "cols_to_null_nums = df_drop_nan.isnull().sum(axis=0).sort_values(ascending=False)\n",
    "cols_to_null_nums[:10]"
   ]
  },
  {
   "cell_type": "code",
   "execution_count": 42,
   "metadata": {
    "collapsed": false
   },
   "outputs": [
    {
     "data": {
      "text/plain": [
       "839    168\n",
       "842    168\n",
       "843    168\n",
       "845    168\n",
       "847    168\n",
       "838    167\n",
       "324    155\n",
       "841    151\n",
       "840    150\n",
       "844    150\n",
       "dtype: int64"
      ]
     },
     "execution_count": 42,
     "metadata": {},
     "output_type": "execute_result"
    }
   ],
   "source": [
    "# Number of null value of each row\n",
    "\n",
    "rows_to_null_nums = df_drop_nan.isnull().sum(axis=1).sort_values(ascending=False)\n",
    "rows_to_null_nums[:10]"
   ]
  },
  {
   "cell_type": "markdown",
   "metadata": {},
   "source": [
    "We found that some columns and rows are mostly empty.  "
   ]
  },
  {
   "cell_type": "markdown",
   "metadata": {},
   "source": [
    "### Data Processing"
   ]
  },
  {
   "cell_type": "code",
   "execution_count": 43,
   "metadata": {
    "collapsed": true
   },
   "outputs": [],
   "source": [
    "def drop_nan_with_thresh(df, row_thresh=0, col_thresh=0):\n",
    "    if 0 < row_thresh < 1:\n",
    "        row_thresh = len(df.columns) * row_thresh\n",
    "    if 0 < col_thresh < 1:\n",
    "        col_thresh = len(df) * col_thresh\n",
    "    \n",
    "    df_drop_nan = df.dropna(axis=0, thresh=row_thresh)\n",
    "    return df_drop_nan.dropna(axis=1, thresh=col_thresh)"
   ]
  },
  {
   "cell_type": "code",
   "execution_count": 44,
   "metadata": {
    "collapsed": false
   },
   "outputs": [],
   "source": [
    "df_drop_nan = drop_nan_with_thresh(df_drop_nan, col_thresh=1200)"
   ]
  },
  {
   "cell_type": "markdown",
   "metadata": {},
   "source": [
    "### Training"
   ]
  },
  {
   "cell_type": "code",
   "execution_count": 45,
   "metadata": {
    "collapsed": false
   },
   "outputs": [
    {
     "name": "stdout",
     "output_type": "stream",
     "text": [
      "\n",
      "-----iter 1, random_state 49---\n",
      "Sklearn KNN Accurary:  0.687350835322\n",
      "Sklearn DT Accurary:  0.781026252983\n",
      "\n",
      "-----iter 2, random_state 97---\n",
      "Sklearn KNN Accurary:  0.687350835322\n",
      "Sklearn DT Accurary:  0.781026252983\n",
      "\n",
      "-----iter 3, random_state 53---\n",
      "Sklearn KNN Accurary:  0.687350835322\n",
      "Sklearn DT Accurary:  0.781026252983\n"
     ]
    },
    {
     "data": {
      "text/plain": [
       "array([ 0.68735084,  0.78102625])"
      ]
     },
     "execution_count": 45,
     "metadata": {},
     "output_type": "execute_result"
    }
   ],
   "source": [
    "drop_nan_acc = train_with_diff_split(df_drop_nan)\n",
    "drop_nan_acc"
   ]
  },
  {
   "cell_type": "markdown",
   "metadata": {},
   "source": [
    "### Compare"
   ]
  },
  {
   "cell_type": "code",
   "execution_count": 46,
   "metadata": {
    "collapsed": false
   },
   "outputs": [
    {
     "data": {
      "text/plain": [
       "array([ 0.        ,  0.00596659])"
      ]
     },
     "execution_count": 46,
     "metadata": {},
     "output_type": "execute_result"
    }
   ],
   "source": [
    "compare_acc_with_baseline(drop_nan_acc)"
   ]
  },
  {
   "cell_type": "markdown",
   "metadata": {},
   "source": [
    "Drop Columns with less than 1200 non-null values can increase accuracy.  \n",
    "This method might be a useful stategry in future tuning."
   ]
  },
  {
   "cell_type": "markdown",
   "metadata": {},
   "source": [
    "---\n",
    "## Hobby Similarity\n",
    "Instead of using hobby directly, we count the number of similiar hobby between the participant and his or her partner.  \n",
    "If the difference of their scores on certain hobby is less than the threshold, then we say this is their similar hobby.  "
   ]
  },
  {
   "cell_type": "code",
   "execution_count": 47,
   "metadata": {
    "collapsed": true
   },
   "outputs": [],
   "source": [
    "df_hs = deepcopy(df)"
   ]
  },
  {
   "cell_type": "markdown",
   "metadata": {},
   "source": [
    "### Data Processing"
   ]
  },
  {
   "cell_type": "code",
   "execution_count": 48,
   "metadata": {
    "collapsed": false
   },
   "outputs": [],
   "source": [
    "def count_feature_similarity(joined_df, features,\n",
    "                             sim_thres=1, na_default=-1):\n",
    "    joined_df_no_na = joined_df.fillna(na_default)\n",
    "    sims = list()\n",
    "    for feature in features:\n",
    "        temp_s = abs(joined_df_no_na[feature+'_x'] - joined_df_no_na[feature+'_y'])\n",
    "        temp_s = (temp_s <= sim_thres).astype(int)\n",
    "        sims.append(temp_s)\n",
    "    return sum(sims)"
   ]
  },
  {
   "cell_type": "code",
   "execution_count": 49,
   "metadata": {
    "collapsed": false
   },
   "outputs": [],
   "source": [
    "df_hs['sim_hob_num'] = count_feature_similarity(\n",
    "    joined_df, feature_groups['hobby'], sim_thres=3\n",
    ")"
   ]
  },
  {
   "cell_type": "code",
   "execution_count": 50,
   "metadata": {
    "collapsed": false
   },
   "outputs": [],
   "source": [
    "df_hs.drop(feature_groups['hobby'], axis=1, inplace=True)"
   ]
  },
  {
   "cell_type": "markdown",
   "metadata": {},
   "source": [
    "### Training"
   ]
  },
  {
   "cell_type": "code",
   "execution_count": 51,
   "metadata": {
    "collapsed": false
   },
   "outputs": [
    {
     "name": "stdout",
     "output_type": "stream",
     "text": [
      "\n",
      "-----iter 1, random_state 49---\n",
      "Sklearn KNN Accurary:  0.689140811456\n",
      "Sklearn DT Accurary:  0.769093078759\n",
      "\n",
      "-----iter 2, random_state 97---\n",
      "Sklearn KNN Accurary:  0.689140811456\n",
      "Sklearn DT Accurary:  0.769093078759\n",
      "\n",
      "-----iter 3, random_state 53---\n",
      "Sklearn KNN Accurary:  0.689140811456\n",
      "Sklearn DT Accurary:  0.769093078759\n"
     ]
    },
    {
     "data": {
      "text/plain": [
       "array([ 0.68914081,  0.76909308])"
      ]
     },
     "execution_count": 51,
     "metadata": {},
     "output_type": "execute_result"
    }
   ],
   "source": [
    "hs_acc = train_with_diff_split(df_hs)\n",
    "hs_acc"
   ]
  },
  {
   "cell_type": "markdown",
   "metadata": {},
   "source": [
    "### Compare"
   ]
  },
  {
   "cell_type": "code",
   "execution_count": 52,
   "metadata": {
    "collapsed": false
   },
   "outputs": [
    {
     "data": {
      "text/plain": [
       "array([ 0.00178998, -0.00596659])"
      ]
     },
     "execution_count": 52,
     "metadata": {},
     "output_type": "execute_result"
    }
   ],
   "source": [
    "compare_acc_with_baseline(hs_acc)"
   ]
  },
  {
   "cell_type": "markdown",
   "metadata": {},
   "source": [
    "When the threshold is set to 3, KNN's accuracy increased by 0.2%."
   ]
  },
  {
   "cell_type": "markdown",
   "metadata": {},
   "source": [
    "---\n",
    "\n",
    "## Vectorize Category\n",
    "\n",
    "Doing arithmetic on category data is meaningless.  \n",
    "Thus, we transform these columns into vectors and drop them.\n",
    "\n",
    "e.g.\n",
    "[1, 2, 3] -> [[1, 0, 0], [0, 1, 0], [0, 0, 1]]\n",
    "\n",
    "The columns include\n",
    "- race, race_o\n",
    "- go_out\n",
    "- goal\n",
    "- career_c"
   ]
  },
  {
   "cell_type": "markdown",
   "metadata": {},
   "source": [
    "### Data Processing"
   ]
  },
  {
   "cell_type": "code",
   "execution_count": 53,
   "metadata": {
    "collapsed": true
   },
   "outputs": [],
   "source": [
    "df_vc = deepcopy(baseline_df)"
   ]
  },
  {
   "cell_type": "code",
   "execution_count": 54,
   "metadata": {
    "collapsed": true
   },
   "outputs": [],
   "source": [
    "def vectorize_column(df, col):\n",
    "    v_df = pd.get_dummies(df[col], prefix=col)\n",
    "    return df.drop(col, axis=1).join(v_df)"
   ]
  },
  {
   "cell_type": "code",
   "execution_count": 55,
   "metadata": {
    "collapsed": false
   },
   "outputs": [],
   "source": [
    "category_cols = ['career_c','race', 'race_o', 'go_out', 'goal']\n",
    "\n",
    "for col in category_cols:\n",
    "    df_vc = vectorize_column(df_vc, col)"
   ]
  },
  {
   "cell_type": "markdown",
   "metadata": {},
   "source": [
    "### Training"
   ]
  },
  {
   "cell_type": "code",
   "execution_count": 56,
   "metadata": {
    "collapsed": false
   },
   "outputs": [
    {
     "name": "stdout",
     "output_type": "stream",
     "text": [
      "\n",
      "-----iter 1, random_state 49---\n",
      "Sklearn KNN Accurary:  0.686754176611\n",
      "Sklearn DT Accurary:  0.775059665871\n",
      "\n",
      "-----iter 2, random_state 97---\n",
      "Sklearn KNN Accurary:  0.686754176611\n",
      "Sklearn DT Accurary:  0.775059665871\n",
      "\n",
      "-----iter 3, random_state 53---\n",
      "Sklearn KNN Accurary:  0.686754176611\n",
      "Sklearn DT Accurary:  0.775059665871\n"
     ]
    },
    {
     "data": {
      "text/plain": [
       "array([ 0.68675418,  0.77505967])"
      ]
     },
     "execution_count": 56,
     "metadata": {},
     "output_type": "execute_result"
    }
   ],
   "source": [
    "vc_acc = train_with_diff_split(df_vc)\n",
    "vc_acc"
   ]
  },
  {
   "cell_type": "markdown",
   "metadata": {},
   "source": [
    "### Compare"
   ]
  },
  {
   "cell_type": "code",
   "execution_count": 57,
   "metadata": {
    "collapsed": false,
    "scrolled": true
   },
   "outputs": [
    {
     "data": {
      "text/plain": [
       "array([-0.00059666,  0.        ])"
      ]
     },
     "execution_count": 57,
     "metadata": {},
     "output_type": "execute_result"
    }
   ],
   "source": [
    "compare_acc_with_baseline(vc_acc)"
   ]
  },
  {
   "cell_type": "markdown",
   "metadata": {},
   "source": [
    "This method has minnor improvement on KNN."
   ]
  },
  {
   "cell_type": "markdown",
   "metadata": {},
   "source": [
    "----"
   ]
  },
  {
   "cell_type": "markdown",
   "metadata": {},
   "source": [
    "## Group Columns\n",
    "\n",
    "As mentioned at the begining of section \"Feature Selection\", we group features.  \n",
    "In this experiment, we try to find out which group of features works well."
   ]
  },
  {
   "cell_type": "code",
   "execution_count": 58,
   "metadata": {
    "collapsed": true
   },
   "outputs": [],
   "source": [
    "group_df = deepcopy(baseline_df)"
   ]
  },
  {
   "cell_type": "markdown",
   "metadata": {},
   "source": [
    "### Using One Group to Predict"
   ]
  },
  {
   "cell_type": "code",
   "execution_count": 59,
   "metadata": {
    "collapsed": true
   },
   "outputs": [],
   "source": [
    "group_accs = list()\n",
    "for group_name, features in feature_groups.items():\n",
    "    temp_df = group_df[features].join(group_df['dec'])\n",
    "    temp_acc = train_with_all_methods(temp_df, verbose=False)\n",
    "    group_accs.append((group_name, temp_acc))"
   ]
  },
  {
   "cell_type": "code",
   "execution_count": 60,
   "metadata": {
    "collapsed": true
   },
   "outputs": [],
   "source": [
    "def sort_group_accs(accs):\n",
    "    knn_accs = [\n",
    "        (name, acc[0])\n",
    "        for name, acc in sorted(accs, key=lambda x: x[1][0], reverse=True)\n",
    "    ]\n",
    "    \n",
    "    dt_accs = [\n",
    "        (name, acc[1]) for name ,acc in sorted(accs, key=lambda x: x[1][1], reverse=True)\n",
    "    ]\n",
    "    return knn_accs, dt_accs"
   ]
  },
  {
   "cell_type": "code",
   "execution_count": 61,
   "metadata": {
    "collapsed": true
   },
   "outputs": [],
   "source": [
    "def visulize_accs(accs, hline=0, title=''):\n",
    "    x = range(len(accs))\n",
    "    y, labels = list(), list()\n",
    "    for name, acc in accs:\n",
    "        y.append(acc)\n",
    "        labels.append(name)\n",
    "        \n",
    "    plt.plot(x, y)\n",
    "    plt.xticks(x, labels, rotation=45)\n",
    "    plt.title(title)\n",
    "    plt.axhline(color='red', y=hline)\n",
    "    plt.show()"
   ]
  },
  {
   "cell_type": "code",
   "execution_count": 62,
   "metadata": {
    "collapsed": false
   },
   "outputs": [
    {
     "data": {
      "image/png": "[encoded data removed]",
      "text/plain": [
       "<matplotlib.figure.Figure at 0x11980c908>"
      ]
     },
     "metadata": {},
     "output_type": "display_data"
    },
    {
     "data": {
      "image/png": "[encoded data removed]",
      "text/plain": [
       "<matplotlib.figure.Figure at 0x11980c8d0>"
      ]
     },
     "metadata": {},
     "output_type": "display_data"
    }
   ],
   "source": [
    "knn_accs, dt_accs = sort_group_accs(group_accs)\n",
    "visulize_accs(knn_accs, baseline_acc[0], 'KNN with one group')\n",
    "visulize_accs(dt_accs, baseline_acc[1], 'DT with one group')"
   ]
  },
  {
   "cell_type": "markdown",
   "metadata": {},
   "source": [
    "According the result above, using only group `pharse_1` can siginificantly improve accuracy, especially for KNN.  \n",
    "  \n",
    "However, there are some groups containing insufficient features to predict.  \n",
    "Thus, we combine other groups with `pharse_1` to see which combination has the best result.  "
   ]
  },
  {
   "cell_type": "code",
   "execution_count": 63,
   "metadata": {
    "collapsed": true
   },
   "outputs": [],
   "source": [
    "group_accs = list()\n",
    "for group_name, features in feature_groups.items():\n",
    "    if group_name == 'pharse_1':\n",
    "        continue\n",
    "        \n",
    "    features = deepcopy(features)\n",
    "    features.extend(feature_groups['pharse_1'])\n",
    "    \n",
    "    temp_df = group_df[features].join(group_df['dec'])\n",
    "    temp_acc = train_with_all_methods(temp_df, verbose=False)\n",
    "    group_accs.append((group_name, temp_acc))"
   ]
  },
  {
   "cell_type": "code",
   "execution_count": 64,
   "metadata": {
    "collapsed": false
   },
   "outputs": [
    {
     "data": {
      "image/png": "[encoded data removed]",
      "text/plain": [
       "<matplotlib.figure.Figure at 0x11c5002e8>"
      ]
     },
     "metadata": {},
     "output_type": "display_data"
    },
    {
     "data": {
      "image/png": "[encoded data removed]",
      "text/plain": [
       "<matplotlib.figure.Figure at 0x11c5006d8>"
      ]
     },
     "metadata": {},
     "output_type": "display_data"
    }
   ],
   "source": [
    "knn_accs, dt_accs = sort_group_accs(group_accs)\n",
    "visulize_accs(knn_accs, baseline_acc[0], 'KNN (Pharse 1 with one group)')\n",
    "visulize_accs(dt_accs, baseline_acc[1], 'Decision (Pharse 1 with one group)')"
   ]
  },
  {
   "cell_type": "markdown",
   "metadata": {},
   "source": [
    "The result varies between the 2 algorithm.  \n",
    "However, the combination of `pharse_1` and `pharse_0` doesn't perform well in both cases."
   ]
  },
  {
   "cell_type": "markdown",
   "metadata": {},
   "source": [
    "### Drop One Group to Predict\n",
    "\n",
    "Drop one group to see which group influences accuarcy the most."
   ]
  },
  {
   "cell_type": "code",
   "execution_count": 65,
   "metadata": {
    "collapsed": false
   },
   "outputs": [],
   "source": [
    "group_accs = list()\n",
    "for name, features in feature_groups.items():\n",
    "    temp_df = group_df.drop(features, axis=1)\n",
    "    temp_acc = train_with_all_methods(temp_df, verbose=False)\n",
    "    group_accs.append((name, temp_acc))"
   ]
  },
  {
   "cell_type": "code",
   "execution_count": 66,
   "metadata": {
    "collapsed": false
   },
   "outputs": [
    {
     "data": {
      "image/png": "[encoded data removed]",
      "text/plain": [
       "<matplotlib.figure.Figure at 0x11cfa8668>"
      ]
     },
     "metadata": {},
     "output_type": "display_data"
    },
    {
     "data": {
      "image/png": "[encoded data removed]",
      "text/plain": [
       "<matplotlib.figure.Figure at 0x11cfa8588>"
      ]
     },
     "metadata": {},
     "output_type": "display_data"
    }
   ],
   "source": [
    "knn_accs, dt_acs = sort_group_accs(group_accs)\n",
    "visulize_accs(knn_accs, baseline_acc[0], 'KNN (Drop One Group)')\n",
    "visulize_accs(dt_acs, baseline_acc[1], 'DT (Drop One Group)')"
   ]
  },
  {
   "cell_type": "markdown",
   "metadata": {},
   "source": [
    "We found that `pharse_1` is the most important group and that `pharse_0` can even harm accuracy"
   ]
  },
  {
   "cell_type": "markdown",
   "metadata": {},
   "source": [
    "### Find Which Features in group Pharse_1 Influences the Most\n",
    "\n",
    "- Pharse_1 result"
   ]
  },
  {
   "cell_type": "code",
   "execution_count": 67,
   "metadata": {
    "collapsed": false
   },
   "outputs": [
    {
     "name": "stdout",
     "output_type": "stream",
     "text": [
      "\n",
      "-----iter 1, random_state 49---\n",
      "Sklearn KNN Accurary:  0.791169451074\n",
      "Sklearn DT Accurary:  0.78937947494\n",
      "\n",
      "-----iter 2, random_state 97---\n",
      "Sklearn KNN Accurary:  0.791169451074\n",
      "Sklearn DT Accurary:  0.78937947494\n",
      "\n",
      "-----iter 3, random_state 53---\n",
      "Sklearn KNN Accurary:  0.791169451074\n",
      "Sklearn DT Accurary:  0.78937947494\n"
     ]
    },
    {
     "data": {
      "text/plain": [
       "array([ 0.79116945,  0.78937947])"
      ]
     },
     "execution_count": 67,
     "metadata": {},
     "output_type": "execute_result"
    }
   ],
   "source": [
    "pharse_1_df = group_df[feature_groups['pharse_1']].join(group_df['dec'])\n",
    "pharse_1_acc = train_with_diff_split(pharse_1_df)\n",
    "pharse_1_acc"
   ]
  },
  {
   "cell_type": "code",
   "execution_count": 68,
   "metadata": {
    "collapsed": false
   },
   "outputs": [
    {
     "data": {
      "text/plain": [
       "array([ 0.10381862,  0.01431981])"
      ]
     },
     "execution_count": 68,
     "metadata": {},
     "output_type": "execute_result"
    }
   ],
   "source": [
    "compare_acc_with_baseline(pharse_1_acc)"
   ]
  },
  {
   "cell_type": "markdown",
   "metadata": {},
   "source": [
    " "
   ]
  },
  {
   "cell_type": "code",
   "execution_count": 69,
   "metadata": {
    "collapsed": false
   },
   "outputs": [],
   "source": [
    "pharse_1_col_accs = list()\n",
    "for col in pharse_1_df.columns:\n",
    "    if col == 'dec':\n",
    "        continue\n",
    "    temp_df = pharse_1_df.drop(col, axis=1)\n",
    "    temp_acc = train_with_all_methods(temp_df, verbose=False)\n",
    "    pharse_1_col_accs.append((col, temp_acc))"
   ]
  },
  {
   "cell_type": "code",
   "execution_count": 70,
   "metadata": {
    "collapsed": false,
    "scrolled": false
   },
   "outputs": [
    {
     "data": {
      "image/png": "[encoded data removed]",
      "text/plain": [
       "<matplotlib.figure.Figure at 0x1195dcd68>"
      ]
     },
     "metadata": {},
     "output_type": "display_data"
    },
    {
     "data": {
      "image/png": "[encoded data removed]",
      "text/plain": [
       "<matplotlib.figure.Figure at 0x1195dc780>"
      ]
     },
     "metadata": {},
     "output_type": "display_data"
    }
   ],
   "source": [
    "knn_accs, dt_accs = sort_group_accs(pharse_1_col_accs)\n",
    "visulize_accs(knn_accs[:10], pharse_1_acc[0], 'KNN (Drop One feature in Pharse 1 - Top 10)')\n",
    "visulize_accs(dt_accs[:10], pharse_1_acc[1], 'DTT (Drop One feature in Pharse 1 - Top 10)')"
   ]
  },
  {
   "cell_type": "code",
   "execution_count": 71,
   "metadata": {
    "collapsed": false
   },
   "outputs": [
    {
     "data": {
      "image/png": "[encoded data removed]",
      "text/plain": [
       "<matplotlib.figure.Figure at 0x11c5078d0>"
      ]
     },
     "metadata": {},
     "output_type": "display_data"
    },
    {
     "data": {
      "image/png": "[encoded data removed]",
      "text/plain": [
       "<matplotlib.figure.Figure at 0x11c5070f0>"
      ]
     },
     "metadata": {},
     "output_type": "display_data"
    }
   ],
   "source": [
    "knn_accs, dt_accs = sort_group_accs(pharse_1_col_accs)\n",
    "visulize_accs(knn_accs[-10:], pharse_1_acc[0], 'KNN (Drop One feature in Pharse 1 - Last 10)')\n",
    "visulize_accs(dt_accs[-10:], pharse_1_acc[1], 'DTT (Drop One feature in Pharse 1 - Last 10)')"
   ]
  },
  {
   "cell_type": "markdown",
   "metadata": {},
   "source": [
    "We found that `like`, `prob`, `met` and `attr` are the most important features.  \n",
    "However, the important features to KNN and Decision Tree vary a lot.  \n",
    "Thus, in the following sections, we'll use different feature set to train the method."
   ]
  }
 ],
 "metadata": {
  "anaconda-cloud": {},
  "kernelspec": {
   "display_name": "Python 3",
   "language": "python",
   "name": "python3"
  },
  "language_info": {
   "codemirror_mode": {
    "name": "ipython",
    "version": 3
   },
   "file_extension": ".py",
   "mimetype": "text/x-python",
   "name": "python",
   "nbconvert_exporter": "python",
   "pygments_lexer": "ipython3",
   "version": "3.5.2"
  }
 },
 "nbformat": 4,
 "nbformat_minor": 1
}
